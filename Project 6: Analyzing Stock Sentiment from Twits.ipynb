{
 "cells": [
  {
   "cell_type": "markdown",
   "metadata": {},
   "source": [
    "# Project 6: Analyzing Stock Sentiment from Twits\n",
    "## Instructions\n",
    "Each problem consists of a function to implement and instructions on how to implement the function.  The parts of the function that need to be implemented are marked with a `# TODO` comment.\n",
    "\n",
    "## Packages\n",
    "When you implement the functions, you'll only need to you use the packages you've used in the classroom, like [Pandas](https://pandas.pydata.org/) and [Numpy](http://www.numpy.org/). These packages will be imported for you. We recommend you don't add any import statements, otherwise the grader might not be able to run your code.\n",
    "\n",
    "### Load Packages"
   ]
  },
  {
   "cell_type": "code",
   "execution_count": 1,
   "metadata": {},
   "outputs": [],
   "source": [
    "import json\n",
    "import nltk\n",
    "import os\n",
    "import random\n",
    "import re\n",
    "import torch\n",
    "\n",
    "from torch import nn, optim\n",
    "import torch.nn.functional as F\n",
    "from torch.nn.utils.rnn import pad_sequence, pack_padded_sequence, pad_packed_sequence"
   ]
  },
  {
   "cell_type": "code",
   "execution_count": 2,
   "metadata": {},
   "outputs": [],
   "source": [
    "import matplotlib.pyplot as plt\n",
    "\n",
    "plt.rcParams[\"figure.figsize\"] = (20,10)"
   ]
  },
  {
   "cell_type": "markdown",
   "metadata": {},
   "source": [
    "## Introduction\n",
    "When deciding the value of a company, it's important to follow the news. For example, a product recall or natural disaster in a company's product chain. You want to be able to turn this information into a signal. Currently, the best tool for the job is a Neural Network. \n",
    "\n",
    "For this project, you'll use posts from the social media site [StockTwits](https://en.wikipedia.org/wiki/StockTwits). The community on StockTwits is full of investors, traders, and entrepreneurs. Each message posted is called a Twit. This is similar to Twitter's version of a post, called a Tweet. You'll build a model around these twits that generate a sentiment score.\n",
    "\n",
    "We've collected a bunch of twits, then hand labeled the sentiment of each. To capture the degree of sentiment, we'll use a five-point scale: very negative, negative, neutral, positive, very positive. Each twit is labeled -2 to 2 in steps of 1, from very negative to very positive respectively. You'll build a sentiment analysis model that will learn to assign sentiment to twits on its own, using this labeled data.\n",
    "\n",
    "The first thing we should to do, is load the data.\n",
    "\n",
    "## Import Twits \n",
    "### Load Twits Data \n",
    "This JSON file contains a list of objects for each twit in the `'data'` field:\n",
    "\n",
    "```\n",
    "{'data':\n",
    "  {'message_body': 'Neutral twit body text here',\n",
    "   'sentiment': 0},\n",
    "  {'message_body': 'Happy twit body text here',\n",
    "   'sentiment': 1},\n",
    "   ...\n",
    "}\n",
    "```\n",
    "\n",
    "The fields represent the following:\n",
    "\n",
    "* `'message_body'`: The text of the twit.\n",
    "* `'sentiment'`: Sentiment score for the twit, ranges from -2 to 2 in steps of 1, with 0 being neutral.\n",
    "\n",
    "\n",
    "To see what the data look like by printing the first 10 twits from the list. "
   ]
  },
  {
   "cell_type": "code",
   "execution_count": 3,
   "metadata": {},
   "outputs": [
    {
     "name": "stdout",
     "output_type": "stream",
     "text": [
      "[{'message_body': '$FITB great buy at 26.00...ill wait', 'sentiment': 2, 'timestamp': '2018-07-01T00:00:09Z'}, {'message_body': '@StockTwits $MSFT', 'sentiment': 1, 'timestamp': '2018-07-01T00:00:42Z'}, {'message_body': '#STAAnalystAlert for $TDG : Jefferies Maintains with a rating of Hold setting target price at USD 350.00. Our own verdict is Buy  http://www.stocktargetadvisor.com/toprating', 'sentiment': 2, 'timestamp': '2018-07-01T00:01:24Z'}, {'message_body': '$AMD I heard there’s a guy who knows someone who thinks somebody knows something - on StockTwits.', 'sentiment': 1, 'timestamp': '2018-07-01T00:01:47Z'}, {'message_body': '$AMD reveal yourself!', 'sentiment': 0, 'timestamp': '2018-07-01T00:02:13Z'}, {'message_body': '$AAPL Why the drop? I warren Buffet taking out his position?', 'sentiment': 1, 'timestamp': '2018-07-01T00:03:10Z'}, {'message_body': '$BA bears have 1 reason on 06-29 to pay more attention https://dividendbot.com?s=BA', 'sentiment': -2, 'timestamp': '2018-07-01T00:04:09Z'}, {'message_body': '$BAC ok good we&#39;re not dropping in price over the weekend, lol', 'sentiment': 1, 'timestamp': '2018-07-01T00:04:17Z'}, {'message_body': '$AMAT - Daily Chart, we need to get back to above 50.', 'sentiment': 2, 'timestamp': '2018-07-01T00:08:01Z'}, {'message_body': '$GME 3% drop per week after spike... if no news in 3 months, back to 12s... if BO, then bingo... what is the odds?', 'sentiment': -2, 'timestamp': '2018-07-01T00:09:03Z'}]\n"
     ]
    }
   ],
   "source": [
    "with open(os.path.join('..', '..', 'data', 'project_6_stocktwits', 'twits.json'), 'r') as f:\n",
    "    twits = json.load(f)\n",
    "\n",
    "print(twits['data'][:10])"
   ]
  },
  {
   "cell_type": "markdown",
   "metadata": {},
   "source": [
    "### Length of Data\n",
    "Now let's look at the number of twits in dataset. Print the number of twits below."
   ]
  },
  {
   "cell_type": "code",
   "execution_count": 4,
   "metadata": {},
   "outputs": [
    {
     "name": "stdout",
     "output_type": "stream",
     "text": [
      "The number of twit is 1548010.\n"
     ]
    }
   ],
   "source": [
    "\"\"\"print out the number of twits\"\"\"\n",
    "\n",
    "print(f\"The number of twit is {len(twits['data'])}.\")"
   ]
  },
  {
   "cell_type": "markdown",
   "metadata": {},
   "source": [
    "### Split Message Body and Sentiment Score"
   ]
  },
  {
   "cell_type": "code",
   "execution_count": 5,
   "metadata": {},
   "outputs": [],
   "source": [
    "messages = [twit['message_body'] for twit in twits['data']]\n",
    "\n",
    "# Since the sentiment scores are discrete, we'll scale the sentiments to 0 to 4 for use in our network\n",
    "sentiments = [twit['sentiment'] + 2 for twit in twits['data']]"
   ]
  },
  {
   "cell_type": "markdown",
   "metadata": {},
   "source": [
    "## Preprocessing the Data\n",
    "With our data in hand we need to preprocess our text. These twits are collected by filtering on ticker symbols where these are denoted with a leader $ symbol in the twit itself. For example,\n",
    "\n",
    "`{'message_body': 'RT @google Our annual look at the year in Google blogging (and beyond) http://t.co/sptHOAh8 $GOOG',\n",
    " 'sentiment': 0}`\n",
    "\n",
    "The ticker symbols don't provide information on the sentiment, and they are in every twit, so we should remove them. This twit also has the `@google` username, again not providing sentiment information, so we should also remove it. We also see a URL `http://t.co/sptHOAh8`. Let's remove these too.\n",
    "\n",
    "The easiest way to remove specific words or phrases is with regex using the `re` module. You can sub out specific patterns with a space:\n",
    "\n",
    "```python\n",
    "re.sub(pattern, ' ', text)\n",
    "```\n",
    "This will substitute a space with anywhere the pattern matches in the text. Later when we tokenize the text, we'll split appropriately on those spaces."
   ]
  },
  {
   "cell_type": "markdown",
   "metadata": {},
   "source": [
    "- 모든 트윗에는 티커정보들이 있다. $로 시작.\n",
    "- 모든 트윗에는 티커정보들이 있는데 이는 감정분석에 도움이 되지 않음으로 제거한다.\n",
    "- url을 제거한다."
   ]
  },
  {
   "cell_type": "code",
   "execution_count": 6,
   "metadata": {},
   "outputs": [
    {
     "name": "stdout",
     "output_type": "stream",
     "text": [
      "$FITB great buy at 26.00...ill wait\n",
      "@StockTwits $MSFT\n",
      "#STAAnalystAlert for $TDG : Jefferies Maintains with a rating of Hold setting target price at USD 350.00. Our own verdict is Buy  http://www.stocktargetadvisor.com/toprating\n",
      "$AMD I heard there’s a guy who knows someone who thinks somebody knows something - on StockTwits.\n",
      "$AMD reveal yourself!\n",
      "$AAPL Why the drop? I warren Buffet taking out his position?\n",
      "$BA bears have 1 reason on 06-29 to pay more attention https://dividendbot.com?s=BA\n",
      "$BAC ok good we&#39;re not dropping in price over the weekend, lol\n",
      "$AMAT - Daily Chart, we need to get back to above 50.\n",
      "$GME 3% drop per week after spike... if no news in 3 months, back to 12s... if BO, then bingo... what is the odds?\n"
     ]
    }
   ],
   "source": [
    "for t in messages[:10]:\n",
    "    print(t)"
   ]
  },
  {
   "cell_type": "markdown",
   "metadata": {},
   "source": [
    "### Pre-Processing"
   ]
  },
  {
   "cell_type": "code",
   "execution_count": 7,
   "metadata": {},
   "outputs": [
    {
     "name": "stdout",
     "output_type": "stream",
     "text": [
      "[nltk_data] Downloading package wordnet to /root/nltk_data...\n",
      "[nltk_data]   Unzipping corpora/wordnet.zip.\n"
     ]
    }
   ],
   "source": [
    "nltk.download('wordnet')\n",
    "\n",
    "\n",
    "def preprocess(message):\n",
    "    \"\"\"\n",
    "    This function takes a string as input, then performs these operations: \n",
    "        - lowercase\n",
    "        - remove URLs\n",
    "        - remove ticker symbols \n",
    "        - removes punctuation\n",
    "        - tokenize by splitting the string on whitespace \n",
    "        - removes any single character tokens\n",
    "    \n",
    "    Parameters\n",
    "    ----------\n",
    "        message : The text message to be preprocessed.\n",
    "        \n",
    "    Returns\n",
    "    -------\n",
    "        tokens: The preprocessed text into tokens.\n",
    "    \"\"\" \n",
    "    URL_PATTERN = \"(http|https)?://(?:[a-zA-Z]|[0-9]|[$-_@.&+]|[!*\\(\\),]|(?:%[0-9a-fA-F][0-9a-fA-F]))+\"\n",
    "    TICKER_PATTERN = r'(?P<ticker>\\$\\w*)\\b'\n",
    "    USERNAME_PATTERN = r'@\\w+'\n",
    "    NOT_LETTER_PATTERN = r'[\\W_]+' \n",
    "    \n",
    "    # Lowercase the twit message\n",
    "    text = message.lower()\n",
    "    \n",
    "    # Replace URLs with a space in the message\n",
    "    text = re.sub(URL_PATTERN, \" \", text)\n",
    "    \n",
    "    # Replace ticker symbols with a space. The ticker symbols are any stock symbol that starts with $.\n",
    "    text = re.sub(TICKER_PATTERN, \" \", text)\n",
    "    \n",
    "    # Replace StockTwits usernames with a space. The usernames are any word that starts with @.\n",
    "    text = re.sub(URL_PATTERN, \" \", text)\n",
    "\n",
    "    # Replace everything not a letter with a space\n",
    "    text = re.sub(NOT_LETTER_PATTERN, \" \", text)\n",
    "    \n",
    "    # Tokenize by splitting the string on whitespace into a list of words\n",
    "    tokens = text.split()\n",
    "\n",
    "    # Lemmatize words using the WordNetLemmatizer. You can ignore any word that is not longer than one character.\n",
    "    wnl = nltk.stem.WordNetLemmatizer()\n",
    "    tokens = [ wnl.lemmatize(token) for token in tokens if len(token)>1]\n",
    "    \n",
    "    return tokens"
   ]
  },
  {
   "cell_type": "markdown",
   "metadata": {},
   "source": [
    "### Preprocess All the Twits \n",
    "Now we can preprocess each of the twits in our dataset. Apply the function `preprocess` to all the twit messages."
   ]
  },
  {
   "cell_type": "code",
   "execution_count": 8,
   "metadata": {
    "scrolled": true
   },
   "outputs": [
    {
     "name": "stdout",
     "output_type": "stream",
     "text": [
      "original:$FITB great buy at 26.00...ill wait\n",
      ">>>>:['great', 'buy', 'at', '26', '00', 'ill', 'wait']\n",
      "-----------------------------------------\n",
      "original:@StockTwits $MSFT\n",
      ">>>>:['stocktwits']\n",
      "-----------------------------------------\n",
      "original:#STAAnalystAlert for $TDG : Jefferies Maintains with a rating of Hold setting target price at USD 350.00. Our own verdict is Buy  http://www.stocktargetadvisor.com/toprating\n",
      ">>>>:['staanalystalert', 'for', 'jefferies', 'maintains', 'with', 'rating', 'of', 'hold', 'setting', 'target', 'price', 'at', 'usd', '350', '00', 'our', 'own', 'verdict', 'is', 'buy']\n",
      "-----------------------------------------\n",
      "original:$AMD I heard there’s a guy who knows someone who thinks somebody knows something - on StockTwits.\n",
      ">>>>:['heard', 'there', 'guy', 'who', 'know', 'someone', 'who', 'think', 'somebody', 'know', 'something', 'on', 'stocktwits']\n",
      "-----------------------------------------\n",
      "original:$AMD reveal yourself!\n",
      ">>>>:['reveal', 'yourself']\n",
      "-----------------------------------------\n",
      "original:$AAPL Why the drop? I warren Buffet taking out his position?\n",
      ">>>>:['why', 'the', 'drop', 'warren', 'buffet', 'taking', 'out', 'his', 'position']\n",
      "-----------------------------------------\n",
      "original:$BA bears have 1 reason on 06-29 to pay more attention https://dividendbot.com?s=BA\n",
      ">>>>:['bear', 'have', 'reason', 'on', '06', '29', 'to', 'pay', 'more', 'attention']\n",
      "-----------------------------------------\n",
      "original:$BAC ok good we&#39;re not dropping in price over the weekend, lol\n",
      ">>>>:['ok', 'good', 'we', '39', 're', 'not', 'dropping', 'in', 'price', 'over', 'the', 'weekend', 'lol']\n",
      "-----------------------------------------\n",
      "original:$AMAT - Daily Chart, we need to get back to above 50.\n",
      ">>>>:['daily', 'chart', 'we', 'need', 'to', 'get', 'back', 'to', 'above', '50']\n",
      "-----------------------------------------\n",
      "original:$GME 3% drop per week after spike... if no news in 3 months, back to 12s... if BO, then bingo... what is the odds?\n",
      ">>>>:['drop', 'per', 'week', 'after', 'spike', 'if', 'no', 'news', 'in', 'month', 'back', 'to', '12', 'if', 'bo', 'then', 'bingo', 'what', 'is', 'the', 'odds']\n",
      "-----------------------------------------\n"
     ]
    }
   ],
   "source": [
    "for m in messages[:10]:\n",
    "    print(f\"original:{m}\")\n",
    "    print(f\">>>>:{preprocess(m)}\")\n",
    "    print(\"-----------------------------------------\")"
   ]
  },
  {
   "cell_type": "code",
   "execution_count": 9,
   "metadata": {},
   "outputs": [],
   "source": [
    "# TODO Implement\n",
    "\n",
    "tokenized = [ preprocess(m) for m in messages]"
   ]
  },
  {
   "cell_type": "markdown",
   "metadata": {},
   "source": [
    "### Bag of Words\n",
    "Now with all of our messages tokenized, we want to create a vocabulary and count up how often each word appears in our entire corpus. Use the [`Counter`](https://docs.python.org/3.1/library/collections.html#collections.Counter) function to count up all the tokens."
   ]
  },
  {
   "cell_type": "code",
   "execution_count": 10,
   "metadata": {},
   "outputs": [],
   "source": [
    "from collections import Counter\n",
    "\n",
    "\n",
    "\"\"\"\n",
    "Create a vocabulary by using Bag of words\n",
    "\"\"\"\n",
    "\n",
    "bow = Counter()\n",
    "for one_sample in tokenized:\n",
    "    bow.update(one_sample)"
   ]
  },
  {
   "cell_type": "code",
   "execution_count": 11,
   "metadata": {},
   "outputs": [
    {
     "data": {
      "text/plain": [
       "138351"
      ]
     },
     "execution_count": 11,
     "metadata": {},
     "output_type": "execute_result"
    }
   ],
   "source": [
    "len(bow.keys())"
   ]
  },
  {
   "cell_type": "markdown",
   "metadata": {},
   "source": [
    "### Frequency of Words Appearing in Message\n",
    "With our vocabulary, now we'll remove some of the most common words such as 'the', 'and', 'it', etc. These words don't contribute to identifying sentiment and are really common, resulting in a lot of noise in our input. If we can filter these out, then our network should have an easier time learning.\n",
    "\n",
    "We also want to remove really rare words that show up in a only a few twits. **Here you'll want to divide the count of each word by the number of messages. Then remove words that only appear in some small fraction of the messages.**"
   ]
  },
  {
   "cell_type": "markdown",
   "metadata": {},
   "source": [
    "- Noise제거를 위해서 cutoff 를 설정해서, 많이 등장하는단어와, 적게 등장하는 단어를 날린다."
   ]
  },
  {
   "cell_type": "code",
   "execution_count": 12,
   "metadata": {},
   "outputs": [
    {
     "data": {
      "text/plain": [
       "1548010"
      ]
     },
     "execution_count": 12,
     "metadata": {},
     "output_type": "execute_result"
    }
   ],
   "source": [
    "len(messages)"
   ]
  },
  {
   "cell_type": "code",
   "execution_count": 13,
   "metadata": {},
   "outputs": [],
   "source": [
    "num_of_messages = len(messages)"
   ]
  },
  {
   "cell_type": "code",
   "execution_count": 14,
   "metadata": {},
   "outputs": [],
   "source": [
    "freqs = { w:c/num_of_messages for w, c in bow.items()}"
   ]
  },
  {
   "cell_type": "code",
   "execution_count": 15,
   "metadata": {
    "scrolled": true
   },
   "outputs": [
    {
     "data": {
      "text/plain": [
       "{'great': 0.011353931822145853,\n",
       " 'buy': 0.04915213726009522,\n",
       " 'at': 0.08935924186536262,\n",
       " '26': 0.009675002099469641,\n",
       " '00': 0.015291890879257886,\n",
       " 'ill': 0.0005684717798980627,\n",
       " 'wait': 0.007331993979367058,\n",
       " 'stocktwits': 0.0014922384222324145,\n",
       " 'staanalystalert': 0.00263047396334649,\n",
       " 'for': 0.17669524098681533,\n",
       " 'jefferies': 0.0006821661358776752,\n",
       " 'maintains': 0.0005833295650544894,\n",
       " 'with': 0.04448356276768238,\n",
       " 'rating': 0.009971511811939199,\n",
       " 'of': 0.13652883379306335,\n",
       " 'hold': 0.014299003236413201,\n",
       " 'setting': 0.002512257672754052,\n",
       " 'target': 0.01070406521921693,\n",
       " 'price': 0.02395462561611359,\n",
       " 'usd': 0.0018746648923456566,\n",
       " '350': 0.0012622657476372891,\n",
       " 'our': 0.007884961983449719,\n",
       " 'own': 0.005793244229688439,\n",
       " 'verdict': 0.002413421101930866,\n",
       " 'is': 0.18403304888211316,\n",
       " 'heard': 0.0008766093242291716,\n",
       " 'there': 0.016759581656449248,\n",
       " 'guy': 0.008676946531353157,\n",
       " 'who': 0.011553542935769148,\n",
       " 'know': 0.012876531805350094,\n",
       " 'someone': 0.00335398350139857,\n",
       " 'think': 0.015685945181232678,\n",
       " 'somebody': 0.0007105897248725784,\n",
       " 'something': 0.003881757869781203,\n",
       " 'on': 0.15610945665725673,\n",
       " 'reveal': 0.00012661416915911395,\n",
       " 'yourself': 0.0007797107253829109,\n",
       " 'why': 0.014021873243712896,\n",
       " 'the': 0.25777352859477654,\n",
       " 'drop': 0.011488943869871641,\n",
       " 'warren': 0.0006563265095186723,\n",
       " 'buffet': 0.0008397878566675926,\n",
       " 'taking': 0.004145968049302007,\n",
       " 'out': 0.03662379441993269,\n",
       " 'his': 0.004048423459796772,\n",
       " 'position': 0.007593620196251962,\n",
       " 'bear': 0.021683968449816217,\n",
       " 'have': 0.034212311289978745,\n",
       " 'reason': 0.005023869354849129,\n",
       " '06': 0.004996737747172176,\n",
       " '29': 0.00561882675176517,\n",
       " 'to': 0.24510888172557024,\n",
       " 'pay': 0.004910174998869516,\n",
       " 'more': 0.035756874955588144,\n",
       " 'attention': 0.002337194204171808,\n",
       " 'ok': 0.0029508853301981252,\n",
       " 'good': 0.0285540791080161,\n",
       " 'we': 0.04183177111258971,\n",
       " '39': 0.128478498200916,\n",
       " 're': 0.008518678819904264,\n",
       " 'not': 0.04412568394261019,\n",
       " 'dropping': 0.0014657528052144366,\n",
       " 'in': 0.1326044405397898,\n",
       " 'over': 0.021105806810033528,\n",
       " 'weekend': 0.0023003727366102287,\n",
       " 'lol': 0.019985013016711777,\n",
       " 'daily': 0.009065186917397175,\n",
       " 'chart': 0.010341018468872941,\n",
       " 'need': 0.013979883850879516,\n",
       " 'get': 0.03016194985820505,\n",
       " 'back': 0.027808605887558867,\n",
       " 'above': 0.011526411328092196,\n",
       " '50': 0.018654272259223132,\n",
       " 'per': 0.01069502134999128,\n",
       " 'week': 0.028335734265282523,\n",
       " 'after': 0.022218848715447576,\n",
       " 'spike': 0.001423763412381057,\n",
       " 'if': 0.03811280288887023,\n",
       " 'no': 0.026048927332510772,\n",
       " 'news': 0.01275120961750893,\n",
       " 'month': 0.010753160509299035,\n",
       " '12': 0.013519938501689265,\n",
       " 'bo': 0.0003456050025516631,\n",
       " 'then': 0.013547070109366219,\n",
       " 'bingo': 0.00011692430927448789,\n",
       " 'what': 0.05113532858314869,\n",
       " 'odds': 0.0002532283383182279,\n",
       " 'strong': 0.01111039334371225,\n",
       " 'short': 0.05599705428259508,\n",
       " 'ratio': 0.004949580429066996,\n",
       " '17': 0.012765421412006383,\n",
       " '2018': 0.04430914528975911,\n",
       " '15': 0.011977958798715771,\n",
       " 'and': 0.13468905239630236,\n",
       " 'float': 0.0030064405268699817,\n",
       " '42': 0.0033262059030626416,\n",
       " 'via': 0.015174320579324423,\n",
       " 'sunshineave': 0.0023275043442871814,\n",
       " 'squeezing': 0.00014728587024631624,\n",
       " 'perfect': 0.0012842294300424416,\n",
       " 'place': 0.001841073378078953,\n",
       " 'an': 0.014541895724187829,\n",
       " 'option': 0.013277692004573615,\n",
       " 'straddle': 0.001441851150832359,\n",
       " 'near': 0.00376160360721184,\n",
       " 'supporting': 0.00017893941253609472,\n",
       " 'trend': 0.005225418440449351,\n",
       " 'deepakm2013': 1.2919813179501424e-06,\n",
       " 'nytunes': 1.2919813179501424e-06,\n",
       " 'start': 0.005723477238519131,\n",
       " 'new': 0.02999011634291768,\n",
       " 'monday': 0.004769349035212951,\n",
       " 'expect': 0.006691817236322763,\n",
       " 'volume': 0.02823108377852856,\n",
       " 'across': 0.0005045187046595306,\n",
       " 'key': 0.01794562050632748,\n",
       " 'company': 0.014308047105638853,\n",
       " 'various': 5.4263215353905985e-05,\n",
       " 'sector': 0.003264190799801035,\n",
       " 'breakout': 0.004313279629976551,\n",
       " 'strategy': 0.0010503808114934658,\n",
       " 'current': 0.003996098216419791,\n",
       " 'portfolio': 0.001595596927668426,\n",
       " 'bull': 0.01759032564389119,\n",
       " 'catalyst': 0.0008294520061239915,\n",
       " 'continuing': 0.00022674272130025,\n",
       " 'this': 0.1315036724568963,\n",
       " 'uptrend': 0.0010904322323499202,\n",
       " 'pill': 0.00012661416915911395,\n",
       " 'pack': 0.0001214462438873134,\n",
       " 'amazon': 0.007100729323453983,\n",
       " 'prime': 0.001178932952629505,\n",
       " 'day': 0.04315605196348861,\n",
       " 'earnings': 0.034201975439435144,\n",
       " 'test': 0.0025988204210567116,\n",
       " 'break': 0.011045148287155767,\n",
       " '1763': 3.875943953850427e-05,\n",
       " 'soon': 0.01043404112376535,\n",
       " 'ha': 0.028607050342052055,\n",
       " 'moved': 0.00217569653942804,\n",
       " '21': 0.01053093972261161,\n",
       " 'check': 0.0035245250353679886,\n",
       " 'movement': 0.001851409228622554,\n",
       " 'peer': 0.0020529583142227764,\n",
       " 'mkm': 0.00010594246807191168,\n",
       " 'partner': 0.0007519331270469829,\n",
       " 'set': 0.003772585448414416,\n",
       " '91': 0.0015988268809633012,\n",
       " 'it': 0.12503149204462505,\n",
       " 'too': 0.012269300585913528,\n",
       " 'early': 0.0030807294526521145,\n",
       " 'tell': 0.0030045025548930565,\n",
       " 'going': 0.03101401153739317,\n",
       " 'happen': 0.00276419402975433,\n",
       " 'even': 0.010216342271690751,\n",
       " 'about': 0.01783257214100684,\n",
       " 'raisinf': 6.459906589750712e-07,\n",
       " 'output': 7.041298182828277e-05,\n",
       " 'still': 0.02275825091569176,\n",
       " 'so': 0.02965613917222757,\n",
       " 'many': 0.006109133661927248,\n",
       " '66': 0.0022848689607948267,\n",
       " 'financially': 0.0003682146756157906,\n",
       " 'healthy': 0.0011679511114269289,\n",
       " 'problem': 0.0017790582748173462,\n",
       " 'meeting': 0.0006466366496340463,\n",
       " 'obligation': 0.0004328137415132977,\n",
       " 'nke': 0.0004689892184159017,\n",
       " 'fa': 0.0075535687753955074,\n",
       " 'amp': 0.0319487600209301,\n",
       " '8832fee1': 0.00011757029993346297,\n",
       " 'd06b': 0.00011757029993346297,\n",
       " '46b5': 0.00011757029993346297,\n",
       " '827f': 0.00011757029993346297,\n",
       " '26246a5e29a8': 0.00011757029993346297,\n",
       " 'bullish': 0.01628607050342052,\n",
       " 'stock': 0.04877487871525378,\n",
       " 'watch': 0.009462471172666843,\n",
       " 'setup': 0.005238338253628853,\n",
       " 'timeframes': 2.519363570002778e-05,\n",
       " 'blog': 0.0003527108998003889,\n",
       " 'by': 0.034864115864884596,\n",
       " 'sssvenky': 6.459906589750712e-07,\n",
       " 'just': 0.047292976143564966,\n",
       " 'high': 0.018293809471515043,\n",
       " 'alert': 0.007890775899380495,\n",
       " 'next': 0.030342181252059095,\n",
       " 'gt': 0.00607618813831952,\n",
       " '40': 0.007363001530997862,\n",
       " 'breakdown': 0.0007131736875084786,\n",
       " 'much': 0.010720214985691307,\n",
       " 'better': 0.008904335243312382,\n",
       " 'than': 0.018815123933307924,\n",
       " 'industry': 0.005032267233415805,\n",
       " 'average': 0.006025154876260489,\n",
       " '71': 0.002269365184979425,\n",
       " 'fslr': 8.785472962060969e-05,\n",
       " 'b431cf47': 3.617547690260399e-05,\n",
       " 'ec7e': 3.617547690260399e-05,\n",
       " '4226': 4.26353834923547e-05,\n",
       " 'b864': 3.617547690260399e-05,\n",
       " '511b6081b3be': 3.617547690260399e-05,\n",
       " 'miss': 0.0045044928650331715,\n",
       " 'these': 0.009128494001976732,\n",
       " 'confirms': 0.0002655021608387543,\n",
       " 'you': 0.06092983895452872,\n",
       " 'will': 0.082819232433899,\n",
       " 'see': 0.02864322581895466,\n",
       " 'violent': 9.496062686933546e-05,\n",
       " 'move': 0.014553523556049379,\n",
       " 'downward': 0.0005368182376082842,\n",
       " 'my': 0.03317420430100581,\n",
       " 'base': 0.0009483142873754045,\n",
       " 'gap': 0.006306806803573621,\n",
       " '200': 0.0056646920885524,\n",
       " 'ma': 0.0022254378201691204,\n",
       " 'cabot': 6.847500985135755e-05,\n",
       " 'weekly': 0.00463046104353331,\n",
       " 'video': 0.0018191096956738006,\n",
       " 'quot': 0.02589970349028753,\n",
       " 'resilient': 8.850072027958475e-05,\n",
       " 'growth': 0.023322200760976998,\n",
       " 'when': 0.01940555939561114,\n",
       " 'wa': 0.03569292188034961,\n",
       " 'kid': 0.0010956001576217208,\n",
       " 'froend': 6.459906589750712e-07,\n",
       " 'told': 0.0024825421024411987,\n",
       " 'me': 0.016727282123500494,\n",
       " 'moon': 0.0014095516178836054,\n",
       " 'made': 0.005049062990549157,\n",
       " 'cheese': 7.493491644110826e-05,\n",
       " 'percent': 0.004054883366386522,\n",
       " '35': 0.004651778735279488,\n",
       " '28': 0.008186639621191077,\n",
       " '18': 0.019391993591772662,\n",
       " '20': 0.019725970762462776,\n",
       " 'rank': 0.003447652146949955,\n",
       " '20th': 0.00020154908560022223,\n",
       " 'percentile': 0.0009037409319061246,\n",
       " 'murph3232': 6.459906589750712e-07,\n",
       " 'thank': 0.0026634194869542185,\n",
       " 'don': 0.016438524298938637,\n",
       " 'feel': 0.0038681920659427264,\n",
       " 'or': 0.024213667870362596,\n",
       " 'do': 0.015900414080012405,\n",
       " 'well': 0.01069889729394513,\n",
       " 'they': 0.036406095567858086,\n",
       " 'already': 0.006237039812404313,\n",
       " 'during': 0.0016543820776351574,\n",
       " 'youtube': 0.0004560694052364003,\n",
       " 'interview': 0.0004024521805414694,\n",
       " 'mitch': 4.0051420856454416e-05,\n",
       " 'couldn': 0.0008087803050367892,\n",
       " 'remember': 0.003113028985600868,\n",
       " 'single': 0.0013992157673400043,\n",
       " 'movie': 0.0005678257892390876,\n",
       " 'he': 0.0074883237188390255,\n",
       " 'watched': 0.00025452031963617804,\n",
       " 'all': 0.038712282220399095,\n",
       " 'year': 0.02213680790175774,\n",
       " 'except': 0.0007306154353008056,\n",
       " 'star': 0.0015387497496786196,\n",
       " 'war': 0.003203467677857378,\n",
       " 'black': 0.0007855246413136866,\n",
       " 'panther': 1.7441747792326922e-05,\n",
       " 'clothes': 7.42889257821332e-05,\n",
       " 'downgrade': 0.002748690253938928,\n",
       " '38': 0.0032674207530959103,\n",
       " 'sale': 0.017479215250547478,\n",
       " 'interest': 0.007609123972067364,\n",
       " '43': 0.0031879639020419765,\n",
       " 'shortvolumes': 0.004301005807456024,\n",
       " 'return': 0.004573613865543504,\n",
       " 'equity': 0.0021169113894613082,\n",
       " '97': 0.0018061898824942991,\n",
       " 'e4a695e1': 1.0981841202576211e-05,\n",
       " 'f0f2': 1.0981841202576211e-05,\n",
       " '45d3': 1.0981841202576211e-05,\n",
       " 'b20c': 1.0981841202576211e-05,\n",
       " '84c2169e9553': 1.0981841202576211e-05,\n",
       " 'although': 0.001207356541624408,\n",
       " 'market': 0.0346955123028921,\n",
       " 'up': 0.07850401483194552,\n",
       " 'doing': 0.0035768502787449693,\n",
       " 'advanced': 0.0006408227337032706,\n",
       " '05': 0.004613665286399959,\n",
       " 'a': 0.02983443259410469,\n",
       " 'info': 0.0024728522425565727,\n",
       " 'july': 0.002001279061504771,\n",
       " 'be': 0.057650790369571256,\n",
       " 'most': 0.005319087086000736,\n",
       " '5x': 0.00028229791797210614,\n",
       " 'normal': 0.0010490888301755157,\n",
       " 'friday': 0.0072086097635028195,\n",
       " '154': 0.0001931512070335463,\n",
       " '810': 5.4263215353905985e-05,\n",
       " 'contract': 0.00920601288105374,\n",
       " 'call': 0.04370126807966357,\n",
       " 'put': 0.023840285269475004,\n",
       " '57': 0.0030833134152880148,\n",
       " 'third': 0.0010290631197472885,\n",
       " 'design': 0.0003934083113158184,\n",
       " 'win': 0.0037990710654323937,\n",
       " 'timing': 0.00042699982558252206,\n",
       " 'match': 0.0002642101795208041,\n",
       " 'probably': 0.0032674207530959103,\n",
       " 'arm': 0.00019767314164637179,\n",
       " '1d21bec34e96': 6.459906589750712e-07,\n",
       " 'alcohol': 4.651132744620513e-05,\n",
       " 'tobacco': 9.625260818728561e-05,\n",
       " 'firearm': 1.9379719769252136e-06,\n",
       " 'president': 0.0018391354061020279,\n",
       " 'trump': 0.0076259197292007155,\n",
       " 'tweet': 0.0009024489505881745,\n",
       " 'spoke': 0.00011111039334371225,\n",
       " 'king': 0.0008468937539163184,\n",
       " 'salman': 2.583962635900285e-06,\n",
       " 'saudi': 0.000489014928844129,\n",
       " 'arabia': 9.689859884626069e-05,\n",
       " 'explained': 7.42889257821332e-05,\n",
       " 'him': 0.0013507664679168739,\n",
       " 'that': 0.05792856635293054,\n",
       " 'because': 0.0050845924767927856,\n",
       " 'turmoil': 8.333279500778418e-05,\n",
       " 'today': 0.04925032784025943,\n",
       " 'insight': 0.005288725525028908,\n",
       " 'intc': 0.0014373292162195334,\n",
       " 'mama': 0.00010723444938986183,\n",
       " 'said': 0.006072312194365669,\n",
       " 'ice': 0.0002519363570002778,\n",
       " 'cream': 7.42889257821332e-05,\n",
       " 'finish': 0.0007538710990239081,\n",
       " 'due': 0.0023875814755718633,\n",
       " 'dil': 1.9379719769252136e-06,\n",
       " 'noticed': 0.000235786590525901,\n",
       " 'last': 0.02441392497464487,\n",
       " 'jedi': 0.00011498633729756268,\n",
       " 'stream': 0.0003914703393388932,\n",
       " 'love': 0.0066860033203919875,\n",
       " 'here': 0.048431857675338016,\n",
       " 'go': 0.034072777307640134,\n",
       " 'leave': 0.0008740253615932713,\n",
       " 'gpaisa': 3.5529486243628916e-05,\n",
       " 'view': 0.0033126400992241653,\n",
       " 'look': 0.020154262569363247,\n",
       " '5ema': 5.16792527180057e-06,\n",
       " 'held': 0.001815879742378925,\n",
       " '20ema': 6.395307523853205e-05,\n",
       " 'stochastics': 4.71573181051802e-05,\n",
       " 'turning': 0.0007538710990239081,\n",
       " 'spy': 0.0013798360475707522,\n",
       " 'qqq': 0.0004244158629466218,\n",
       " 'opposite': 0.0005658878172621624,\n",
       " 'forward': 0.0022060581003998684,\n",
       " 'pe': 0.0028598006472826403,\n",
       " '75': 0.004846221923630985,\n",
       " 'valuation': 0.0029185857972493716,\n",
       " 'can': 0.0285669989211956,\n",
       " 'described': 0.00022351276800537464,\n",
       " 'cheap': 0.005061336813069683,\n",
       " 'mu': 0.00617179475584783,\n",
       " '1852fbab': 0.000244830459751552,\n",
       " 'a521': 0.000244830459751552,\n",
       " '4084': 0.0002467684317284772,\n",
       " 'b2cf': 0.000244830459751552,\n",
       " '8f89daf57241': 0.000244830459751552,\n",
       " 'saber': 8.397878566675926e-06,\n",
       " 'capital': 0.0018850007428892579,\n",
       " 'presentation': 0.0004037441618594195,\n",
       " 'common': 0.0009263506049702521,\n",
       " 'denominator': 5.813915930775641e-06,\n",
       " 'tencent': 0.00010594246807191168,\n",
       " 'facebook': 0.005656940200644699,\n",
       " 'google': 0.002103345585622832,\n",
       " 'how': 0.015793825621281517,\n",
       " 'one': 0.01777766293499396,\n",
       " 'performing': 0.0005549059760595862,\n",
       " 'crude': 0.0003158894322388098,\n",
       " 'petroleum': 0.00016085167408479273,\n",
       " 'natural': 0.00033397717069011184,\n",
       " 'gas': 0.0009651100445087564,\n",
       " 'dnr': 0.0002913417871977571,\n",
       " '390f838e': 7.493491644110826e-05,\n",
       " 'f784': 7.493491644110826e-05,\n",
       " '423a': 7.493491644110826e-05,\n",
       " '8673': 7.493491644110826e-05,\n",
       " '94476a9ff4aa': 7.493491644110826e-05,\n",
       " 'pu': 3.165354228977849e-05,\n",
       " 'simply': 0.0004108500591081453,\n",
       " 'havent': 0.00013824200102066525,\n",
       " 'lost': 0.0029437794329493995,\n",
       " 'any': 0.009237666423343519,\n",
       " 'brown': 0.0001660195993565933,\n",
       " 'run': 0.010195024579944574,\n",
       " 'tech': 0.006397891486489105,\n",
       " 'mf': 0.00019896512296432194,\n",
       " 'are': 0.06553123041840815,\n",
       " 'educated': 7.364293512315812e-05,\n",
       " 'their': 0.0156491237136711,\n",
       " 'shit': 0.004142092105348156,\n",
       " 'every': 0.005673089967119076,\n",
       " 'former': 0.000281005936654156,\n",
       " 'global': 0.0016227285353453789,\n",
       " 'manufacturing': 0.00023449460920795084,\n",
       " 'pfizer': 0.0002926337685157073,\n",
       " 'independent': 0.00010077454280011111,\n",
       " 'director': 0.0035225870633910634,\n",
       " 'nat': 8.785472962060969e-05,\n",
       " 'ricciardi': 2.583962635900285e-06,\n",
       " 'may': 0.007063907855892404,\n",
       " 'safest': 9.883657082318589e-05,\n",
       " 'special': 0.00040503614317736965,\n",
       " 'limited': 0.0003572328344132144,\n",
       " 'offer': 0.0009857817455959587,\n",
       " 'june': 0.0008281600248060413,\n",
       " '14th': 6.007713128468163e-05,\n",
       " '30th': 0.0001298441224539893,\n",
       " 'tradenet': 3.2299532948753562e-06,\n",
       " 'offering': 0.00041601798437994585,\n",
       " 'discount': 0.0009399164088087286,\n",
       " 'intro': 3.165354228977849e-05,\n",
       " 'program': 0.000653096556223797,\n",
       " 'below': 0.007250599156336199,\n",
       " '30': 0.01672922009547742,\n",
       " 'financials': 0.0006382387710673704,\n",
       " 'summary': 0.00030167763774135824,\n",
       " 'jeff': 0.000444441573374849,\n",
       " 'gundlach': 2.648561701797792e-05,\n",
       " 'sohn': 1.4857785156426639e-05,\n",
       " 'long': 0.02104637566940782,\n",
       " 'thesis': 0.0006498666029289217,\n",
       " 'energy': 0.0018016679478814737,\n",
       " 'low': 0.01500184107337808,\n",
       " 'peg': 0.00035594085309526425,\n",
       " 'which': 0.005291309487664808,\n",
       " 'compensates': 0.00019121323505662109,\n",
       " 'indicates': 0.001279707495429616,\n",
       " 'rather': 0.0015297058804529687,\n",
       " 'hpq': 4.5219346128254986e-05,\n",
       " '87d9930a': 1.614976647437678e-05,\n",
       " '9d05': 1.614976647437678e-05,\n",
       " '4a11': 1.614976647437678e-05,\n",
       " '9ac9': 1.614976647437678e-05,\n",
       " 'e9954e349fe5': 1.614976647437678e-05,\n",
       " 'pres': 0.00022674272130025,\n",
       " 'coming': 0.012227311193080148,\n",
       " 'mrplanner': 1.2919813179501424e-06,\n",
       " 'seems': 0.003482535642534609,\n",
       " 'support': 0.010983133183894161,\n",
       " '25': 0.015837106995432847,\n",
       " 'under': 0.0058068100335269155,\n",
       " 'likely': 0.0023552819426231096,\n",
       " '53': 0.0030697476114495384,\n",
       " 'bullshit': 0.0005652418266031873,\n",
       " 'worthless': 0.000662140425449448,\n",
       " 'mean': 0.003981240431263364,\n",
       " 'fucking': 0.0015406877216555448,\n",
       " 'nothing': 0.004532916454028074,\n",
       " 'macau': 0.00018023139385404488,\n",
       " 'usa': 0.0006918559957623013,\n",
       " 'take': 0.011388815317730505,\n",
       " 'let': 0.01739523646488072,\n",
       " 'where': 0.008023849975129359,\n",
       " 'right': 0.012306122053475107,\n",
       " 'now': 0.03715286076963327,\n",
       " 'ugly': 0.0011899147938320813,\n",
       " 'without': 0.0015109721513426916,\n",
       " 'clear': 0.0016931415171736618,\n",
       " 'level': 0.006176316690460656,\n",
       " 'term': 0.01173442032028217,\n",
       " 'bearish': 0.0073907791293337894,\n",
       " 'll': 0.008490255230909361,\n",
       " 'previously': 0.00131459099101427,\n",
       " 'mo': 0.0005277743683826332,\n",
       " 'followed': 0.0006279029205237692,\n",
       " 'end': 0.010191794626649698,\n",
       " 'another': 0.009043869225650997,\n",
       " 'runup': 0.0001214462438873134,\n",
       " 'dropped': 0.0019089023972713355,\n",
       " '10': 0.052825240147027476,\n",
       " 'smart': 0.0021459809691151866,\n",
       " 'money': 0.01609873321231775,\n",
       " 'betting': 0.000552968004082661,\n",
       " 'deal': 0.004342995200289404,\n",
       " 'update': 0.013276400023255664,\n",
       " 'technical': 0.00730550836234908,\n",
       " 'bad': 0.008552270334170968,\n",
       " 'doe': 0.007217007642069496,\n",
       " 'present': 0.0015658813573555727,\n",
       " 'nice': 0.011205353970581585,\n",
       " 'opportunity': 0.003794549130819568,\n",
       " 'wynn': 0.0003882403860440178,\n",
       " '5f008ceb': 6.201510326160683e-05,\n",
       " '7e89': 6.201510326160683e-05,\n",
       " '4999': 6.52450565564822e-05,\n",
       " 'a2da': 6.201510326160683e-05,\n",
       " 'c893680bc755': 6.201510326160683e-05,\n",
       " 'completely': 0.0006569725001776475,\n",
       " 'scale': 0.0002467684317284772,\n",
       " 'time': 0.02544621804768703,\n",
       " 'gobble': 6.847500985135755e-05,\n",
       " 'play': 0.0059637857636578575,\n",
       " 'aka': 0.00021705286141562394,\n",
       " 'favorite': 0.000562011873308312,\n",
       " 'them': 0.007144010697605313,\n",
       " 'iddy': 6.459906589750712e-07,\n",
       " 'bitty': 6.4599065897507124e-06,\n",
       " 'kiddy': 2.131769174617735e-05,\n",
       " 'hand': 0.0024108371392949656,\n",
       " '77': 0.0022603213157537743,\n",
       " 'awesome': 0.0011924987564679815,\n",
       " 'concerned': 0.00034948094650551355,\n",
       " 'eow': 0.001361102318460475,\n",
       " 'might': 0.005753838799490959,\n",
       " 'wk': 0.0004670512464389765,\n",
       " 'throwback': 3.81134488795292e-05,\n",
       " 'u': 0.008584569867119722,\n",
       " 'advisor': 0.00014211794497451567,\n",
       " 'upgrade': 0.004417284126071537,\n",
       " 'shorties': 0.0005219604524518576,\n",
       " 'dreaming': 0.00015762172078991738,\n",
       " 'depression': 8.97927015975349e-05,\n",
       " 'somethin': 1.7441747792326922e-05,\n",
       " 'loll': 3.100755163080342e-05,\n",
       " 'updated': 0.000525836396405708,\n",
       " 'hormel': 7.42889257821332e-05,\n",
       " 'food': 0.0009625260818728562,\n",
       " 'dividend': 0.005470248900200903,\n",
       " 'analysis': 0.002211872016330644,\n",
       " 'consumer': 0.0012855214113603917,\n",
       " 'defensive': 0.00018216936583097007,\n",
       " 'intel': 0.005146607580054393,\n",
       " 'profitability': 0.0012189843734859594,\n",
       " 'safety': 0.0007273854820059302,\n",
       " 'score': 0.001713167227601889,\n",
       " 'technology': 0.002023242743909923,\n",
       " 'both': 0.004029043740027519,\n",
       " 'positive': 0.005839755557134643,\n",
       " 'looking': 0.011583258506082002,\n",
       " 'chk': 0.0007299694446418304,\n",
       " '4df21b39': 0.00011175638400268732,\n",
       " 'cb5c': 0.00011175638400268732,\n",
       " '41b6': 0.00011175638400268732,\n",
       " '88a7': 0.00011175638400268732,\n",
       " 'ddbd28711da9': 0.00011175638400268732,\n",
       " 'mad': 0.0008023203984470384,\n",
       " 'report': 0.03571488556275476,\n",
       " 'block': 0.006410165309009632,\n",
       " 'person': 0.0004509014799645997,\n",
       " 'spam': 0.00017570945924121937,\n",
       " 'should': 0.015521217563194037,\n",
       " 'open': 0.013366838715512174,\n",
       " 'projection': 0.0001841073378078953,\n",
       " 'thats': 0.0014586469079657107,\n",
       " 'true': 0.001377898075593827,\n",
       " 'prefer': 0.00023320262789000072,\n",
       " 'from': 0.04031692301729317,\n",
       " 'turd': 0.0006976699116930769,\n",
       " '89': 0.001804897901176349,\n",
       " 'wal': 8.074883237188391e-05,\n",
       " 'mart': 9.496062686933546e-05,\n",
       " 'aristocrat': 0.0001950891790104715,\n",
       " 'valueinvesting': 3.4237504925678774e-05,\n",
       " 'dvb': 1.4211794497451568e-05,\n",
       " 'aaamp': 1.8087738451301994e-05,\n",
       " 'marriage': 2.4547645041052707e-05,\n",
       " '2m': 0.0007855246413136866,\n",
       " 'bank': 0.004870769568672037,\n",
       " 'account': 0.0018081278544712243,\n",
       " 'dm': 3.617547690260399e-05,\n",
       " '60': 0.0061724407465068055,\n",
       " '52': 0.006183422587709382,\n",
       " 'won': 0.003501269371644886,\n",
       " 'stop': 0.00825834458433731,\n",
       " 'posting': 0.0008333279500778418,\n",
       " 'holding': 0.00956647566876183,\n",
       " 'big': 0.017881667431088946,\n",
       " 'calm': 0.0005859135276903896,\n",
       " 'down': 0.04479622224662631,\n",
       " 'luck': 0.002213809988307569,\n",
       " 'chase': 0.000879193286865072,\n",
       " 'continues': 0.0015762172078991738,\n",
       " 'hopefully': 0.0016912035451967366,\n",
       " 'catch': 0.0011304836532063747,\n",
       " 'before': 0.01668593872132609,\n",
       " 'lisa': 0.001986421276348344,\n",
       " 'announces': 0.0021802184740408654,\n",
       " '3rd': 0.0007777727534059857,\n",
       " 'bbby': 8.656274830265954e-05,\n",
       " 'f2bb9afa': 2.8423588994903135e-05,\n",
       " 'b79e': 2.8423588994903135e-05,\n",
       " '4ecc': 2.8423588994903135e-05,\n",
       " 'ace1': 2.8423588994903135e-05,\n",
       " '4be77006d5e1': 2.8423588994903135e-05,\n",
       " 'permamently': 6.459906589750712e-07,\n",
       " 'turned': 0.0008759633335701965,\n",
       " 'off': 0.013730531456515139,\n",
       " 'trading': 0.013681436166433034,\n",
       " 'maybe': 0.0050535849251619825,\n",
       " 'altogether': 1.679575713335185e-05,\n",
       " 'manipulation': 0.0016046407968940768,\n",
       " 'very': 0.012924981104773225,\n",
       " 'rich': 0.00104327491424474,\n",
       " 'make': 0.012876531805350094,\n",
       " 'poor': 0.0012222143267808347,\n",
       " 'fuk': 0.00014663987958734117,\n",
       " 'almost': 0.0036130257556475733,\n",
       " 'pct': 0.0004580073772133255,\n",
       " 'buyback': 0.003294552360772863,\n",
       " 'got': 0.010475384525939754,\n",
       " '4993': 6.459906589750712e-07,\n",
       " 'share': 0.03149979651294242,\n",
       " 'though': 0.002660189533659343,\n",
       " 'drip': 0.000208654982848948,\n",
       " '11': 0.017923656823922326,\n",
       " '017': 1.614976647437678e-05,\n",
       " '81': 0.0019728554725098675,\n",
       " '19': 0.012732475888398653,\n",
       " 'dumped': 0.0006866880704905007,\n",
       " 'obv': 0.00011627831861551283,\n",
       " 'but': 0.03456760615241503,\n",
       " 'jeez': 0.00021899083339254913,\n",
       " 'bit': 0.0028701364978262413,\n",
       " 'done': 0.0035419667831603154,\n",
       " 'bounce': 0.007503181503995452,\n",
       " 'heikin': 6.4599065897507124e-06,\n",
       " 'ashi': 7.751887907700854e-06,\n",
       " 'candle': 0.0021085135108946324,\n",
       " 'confirmation': 0.00047738709698257764,\n",
       " 'liking': 0.00027067008611055487,\n",
       " 'wife': 0.0004198939283337963,\n",
       " 'tree': 0.0003320391987131866,\n",
       " 'fiddy': 2.067170108720228e-05,\n",
       " 'sure': 0.005359138506857191,\n",
       " 'piggy': 0.00017441747792326922,\n",
       " 'lot': 0.006472180412271239,\n",
       " 'coin': 0.00026162621688490385,\n",
       " 'spend': 0.0005200224804749324,\n",
       " 'candy': 7.299694446418305e-05,\n",
       " '23': 0.008083281115755066,\n",
       " '76': 0.0019457238648329146,\n",
       " 'microsoft': 0.001279707495429616,\n",
       " 'investor': 0.005514176265011208,\n",
       " 'aren': 0.0010897862416909452,\n",
       " 'happy': 0.002813289319836435,\n",
       " 'royal': 0.00027906796467723076,\n",
       " 'canada': 0.000870149417639421,\n",
       " 'reiterates': 0.0008611055484137699,\n",
       " 'outperform': 0.001161491204837178,\n",
       " 'loop': 0.00018475332846687036,\n",
       " 'raise': 0.003728658083604111,\n",
       " '80': 0.005255134010762204,\n",
       " 'never': 0.005824251781319242,\n",
       " 'been': 0.012804826842203862,\n",
       " 'wrong': 0.0036227156155321993,\n",
       " 'miracle': 0.00020090309494124716,\n",
       " '8o': 6.459906589750712e-07,\n",
       " 'period': 0.0007499951550700576,\n",
       " 'bollinger': 0.000870149417639421,\n",
       " 'band': 0.000979321839006208,\n",
       " 'dare': 0.00022803470261820015,\n",
       " 'say': 0.01052318783470391,\n",
       " 'didn': 0.0038255566824503717,\n",
       " 'guilty': 6.266109392058191e-05,\n",
       " 'fudge': 4.26353834923547e-05,\n",
       " 'hardly': 0.00016472761803864317,\n",
       " 'ever': 0.0036156097182834736,\n",
       " 'informative': 2.131769174617735e-05,\n",
       " 'comment': 0.0013914638794323034,\n",
       " 'page': 0.00036433873166194015,\n",
       " 'broken': 0.0010284171290883134,\n",
       " 'giving': 0.0011485713916576767,\n",
       " 'endless': 0.00015051582354119159,\n",
       " 'buffering': 2.583962635900285e-06,\n",
       " 'icon': 6.136911260263177e-05,\n",
       " 'give': 0.0049573323169746965,\n",
       " 'viral': 1.1627831861551282e-05,\n",
       " 'walk': 0.0007215715660751546,\n",
       " 'away': 0.003102047144398292,\n",
       " 'highlight': 0.00016085167408479273,\n",
       " 'growing': 0.001442497141491334,\n",
       " 'democrat': 0.0001795854031950698,\n",
       " 'leaving': 0.0005633038546262621,\n",
       " 'party': 0.0011020600642114714,\n",
       " 'epoch': 1.2919813179501424e-06,\n",
       " 'robert': 0.0006285489111827443,\n",
       " 'baird': 0.00042053991899277136,\n",
       " 'neutral': 0.002249339474551198,\n",
       " 'weed': 0.00046317530248512605,\n",
       " 'other': 0.005472186872177829,\n",
       " 'drug': 0.0008481857352342685,\n",
       " 'guess': 0.003828786635745247,\n",
       " 'reasonable': 0.00039405430197479344,\n",
       " 'wba': 9.496062686933546e-05,\n",
       " 'd4067eb8': 3.165354228977849e-05,\n",
       " '9699': 3.294552360772863e-05,\n",
       " '411d': 3.165354228977849e-05,\n",
       " 'ab3c': 3.165354228977849e-05,\n",
       " '8591fd573a1a': 3.165354228977849e-05,\n",
       " 'nike': 0.0025975284397387615,\n",
       " 'winning': 0.0013617483091194502,\n",
       " 'click': 0.0005788076304416638,\n",
       " 'booking': 0.0005322963029954587,\n",
       " 'app': 0.0038436444209016736,\n",
       " 'native': 1.2919813179501425e-05,\n",
       " 'seamless': 6.4599065897507124e-06,\n",
       " 'lovalized': 6.459906589750712e-07,\n",
       " 'transactable': 6.459906589750712e-07,\n",
       " 'ap': 5.16792527180057e-05,\n",
       " 'vitiello': 6.459906589750712e-07,\n",
       " 'tapped': 8.139482303085897e-05,\n",
       " 'acting': 0.0004974128074108048,\n",
       " 'reach': 0.0012674336729090897,\n",
       " 'iconic': 4.069741151542949e-05,\n",
       " 'brand': 0.0012726015981808904,\n",
       " 'built': 0.00028811183390288177,\n",
       " 'mobile': 0.0006240269765699188,\n",
       " 'show': 0.006188590512981183,\n",
       " '13': 0.010200192505216374,\n",
       " '74': 0.001989005238984244,\n",
       " 'morning': 0.007326180063436283,\n",
       " 'heading': 0.0017971460132686482,\n",
       " 'ath': 0.002031640622476599,\n",
       " '65': 0.0037299500649220613,\n",
       " 'acquisition': 0.001143403466385876,\n",
       " 'total': 0.003915349384047907,\n",
       " '500': 0.0030355101065238596,\n",
       " 'past': 0.005361722469493091,\n",
       " 'exit': 0.0009496062686933546,\n",
       " 'zone': 0.0010264791571113882,\n",
       " 'fantastic': 0.0003707986382516909,\n",
       " 'read': 0.0024683303079437472,\n",
       " 'oil': 0.0030781454900162143,\n",
       " 'tighten': 0.0001324280850898896,\n",
       " 'bbl': 9.560661752831054e-05,\n",
       " 'getting': 0.007870104198293293,\n",
       " 'closer': 0.0006304868831596695,\n",
       " 'greatest': 0.000271962067428505,\n",
       " 'yearly': 0.0007997364358111382,\n",
       " 'performance': 0.001352704439893799,\n",
       " 'did': 0.008145296219016673,\n",
       " '98': 0.0017906861066788974,\n",
       " 'fosl': 3.4883495584653845e-05,\n",
       " '195c7be0': 1.4857785156426639e-05,\n",
       " '5092': 1.4857785156426639e-05,\n",
       " '4f1c': 1.4857785156426639e-05,\n",
       " '9083': 1.4857785156426639e-05,\n",
       " '62f56f783cdf': 1.4857785156426639e-05,\n",
       " 'champion': 0.00010271251477703632,\n",
       " 'cashflow': 4.844929942313034e-05,\n",
       " 'highyield': 1.4857785156426639e-05,\n",
       " 'telecommunication': 4.5219346128254985e-06,\n",
       " 'pretty': 0.0029095419280237207,\n",
       " 'risky': 0.0004605913398492258,\n",
       " 'gamble': 0.0005374642282672592,\n",
       " 'either': 0.0020904257724433306,\n",
       " 'plummet': 0.0002105929548258732,\n",
       " 'rally': 0.004012893973553143,\n",
       " 'stronger': 0.0005600739013313867,\n",
       " 'apple': 0.008346845304616895,\n",
       " 'zssadiq': 6.459906589750712e-07,\n",
       " 'talking': 0.0017732443588865704,\n",
       " 'referring': 6.912100051033263e-05,\n",
       " 'intelsat': 3.875943953850427e-06,\n",
       " 'punish': 8.268680434880912e-05,\n",
       " 'seller': 0.00194895381812779,\n",
       " 'warehouse': 5.684717798980627e-05,\n",
       " 'sense': 0.001424409403040032,\n",
       " 'old': 0.002463808373330922,\n",
       " 'gather': 8.462477632573432e-05,\n",
       " 'dust': 0.0002797139553362058,\n",
       " 'pc': 0.00039405430197479344,\n",
       " 'gamers': 0.00013759601036169016,\n",
       " 'crypto': 0.0011304836532063747,\n",
       " 'miner': 0.00010917242136678703,\n",
       " 'gpu': 0.000843663800621443,\n",
       " 'enthusiast': 1.7441747792326922e-05,\n",
       " 'waiting': 0.004678910342956441,\n",
       " 'two': 0.0035607005122705927,\n",
       " 'only': 0.012277698464480204,\n",
       " 'medium': 0.0025865465985361854,\n",
       " 'decent': 0.0018914606494790085,\n",
       " 'pattern': 0.004219610984425165,\n",
       " 'mnk': 0.00010206652411806126,\n",
       " 'd857317a': 3.9405430197479344e-05,\n",
       " 'd94c': 3.9405430197479344e-05,\n",
       " '4373': 4.3927364810304844e-05,\n",
       " 'adc3': 3.9405430197479344e-05,\n",
       " '9cbe67b2f3fb': 3.9405430197479344e-05,\n",
       " 'five': 0.00047738709698257764,\n",
       " 'baba': 0.0003527108998003889,\n",
       " 'ahhhhhhhhhhhhhhhhhhhhh': 6.459906589750712e-07,\n",
       " 'raytheon': 0.00011369435597961254,\n",
       " 'industrials': 0.000199611113623297,\n",
       " 'military': 0.00019896512296432194,\n",
       " 'trending': 0.0012642037196142143,\n",
       " 'riiiiiiiiiich': 6.459906589750712e-07,\n",
       " 'sooooon': 7.105897248725784e-06,\n",
       " 'buuuuls': 6.459906589750712e-07,\n",
       " 'looooove': 2.583962635900285e-06,\n",
       " 'drunk': 0.00013372006640783974,\n",
       " 'doesn': 0.004054883366386522,\n",
       " 'through': 0.0039760725059915635,\n",
       " 'gapping': 0.0001841073378078953,\n",
       " '54': 0.0027629020484363797,\n",
       " '64': 0.0024470126161975697,\n",
       " 'warbey': 6.459906589750712e-07,\n",
       " 'parker': 0.0001324280850898896,\n",
       " '8b': 9.237666423343518e-05,\n",
       " 'prep': 6.52450565564822e-05,\n",
       " 'glass': 0.00019121323505662109,\n",
       " 'seen': 0.002476082195851448,\n",
       " 'focus': 0.0006841041078546004,\n",
       " 'fashion': 0.0001369500197027151,\n",
       " 'wrt': 1.033585054360114e-05,\n",
       " 'wearable': 6.847500985135755e-05,\n",
       " 'like': 0.033537251051349797,\n",
       " 'sbux': 0.0002241587586643497,\n",
       " 'paying': 0.0009857817455959587,\n",
       " 'full': 0.001930866079676488,\n",
       " 'sex': 0.00011046440268473718,\n",
       " 'change': 0.0033488155761267693,\n",
       " 'employee': 0.0007112357155315534,\n",
       " 'hit': 0.008085219087731991,\n",
       " 'bottom': 0.006263525429422291,\n",
       " 'line': 0.004561986033681953,\n",
       " 'recap': 0.0008675654550035207,\n",
       " '63': 0.002194430268538317,\n",
       " 'since': 0.01460326483679046,\n",
       " 'post': 0.005110432103151788,\n",
       " '62': 0.0025716888133797584,\n",
       " 'trade': 0.03201271309616863,\n",
       " 'included': 0.0002422464971156517,\n",
       " 'hsy': 3.294552360772863e-05,\n",
       " 'uri': 4.844929942313034e-05,\n",
       " 'sonc': 7.105897248725784e-06,\n",
       " 'dri': 4.586533678723006e-05,\n",
       " 'kmx': 3.682146756157906e-05,\n",
       " 'akam': 4.9095290082105414e-05,\n",
       " 'enterprise': 0.0008591675764368447,\n",
       " 'value': 0.0036711649149553296,\n",
       " 'v': 0.003481243661216659,\n",
       " 'cap': 0.0026169081595080134,\n",
       " 'difference': 0.0003882403860440178,\n",
       " 'actual': 0.00041924793767482123,\n",
       " 'asset': 0.0012306122053475108,\n",
       " 'spread': 0.0015846150864658496,\n",
       " 'way': 0.010639466153319423,\n",
       " 'undervalued': 0.0016272504699582043,\n",
       " 'million': 0.003981240431263364,\n",
       " 'added': 0.0035930000452193463,\n",
       " 'dont': 0.004045839497160871,\n",
       " 'become': 0.0010226032131575378,\n",
       " 'such': 0.0018843547522302828,\n",
       " 'monopoly': 0.0002105929548258732,\n",
       " 'dipping': 0.00019767314164637179,\n",
       " 'into': 0.01116142660577128,\n",
       " 'everything': 0.002775821861615881,\n",
       " 'airline': 0.0006104611727314423,\n",
       " 'possibility': 0.0003029696190593084,\n",
       " 'loss': 0.0050019056724439764,\n",
       " '14': 0.009572289584692605,\n",
       " '95': 0.002749336244597903,\n",
       " 'suggested': 0.00020736300153099786,\n",
       " 'chartmill': 0.0001459938889283661,\n",
       " 'analyzer': 0.00033591514266703704,\n",
       " 'amd': 0.014821609679524034,\n",
       " 'eb84b522': 0.000217698852074599,\n",
       " 'efcd': 0.000217698852074599,\n",
       " '4183': 0.00021834484273357407,\n",
       " '8ba7': 0.000217698852074599,\n",
       " 'de1f10d58338': 0.000217698852074599,\n",
       " 'resistance': 0.004570383912248629,\n",
       " 'len': 6.07231219436567e-05,\n",
       " '08': 0.01834225877093817,\n",
       " 'reversal': 0.0031769820608394004,\n",
       " 'progress': 0.00036563071297989033,\n",
       " 'grandtraversebay': 3.2299532948753562e-06,\n",
       " 've': 0.00435010109753813,\n",
       " 'recently': 0.000534880265631359,\n",
       " 'closed': 0.002165360688884439,\n",
       " 'list': 0.0021020536043048817,\n",
       " 'bought': 0.012355863334216188,\n",
       " 'same': 0.007810027067008611,\n",
       " 'used': 0.0011266077092525243,\n",
       " 'according': 0.001313945000355295,\n",
       " 'data': 0.006288073074463343,\n",
       " 'reported': 0.009141413815156233,\n",
       " 'finra': 0.0017887481347019722,\n",
       " 'clocked': 0.00045671539589537535,\n",
       " '58': 0.0025955904677618363,\n",
       " 'official': 0.0003049075910362336,\n",
       " 'came': 0.0010536107647883411,\n",
       " 'saying': 0.0025994664117156866,\n",
       " 'agree': 0.0009974095774575099,\n",
       " 'resume': 0.0003333311800311367,\n",
       " 'cover': 0.0037971330934554685,\n",
       " 'penis': 3.036156097182835e-05,\n",
       " 'putang': 6.459906589750712e-07,\n",
       " 'front': 0.0003682146756157906,\n",
       " 'leg': 0.0014541249733528853,\n",
       " 'would': 0.01447729665829032,\n",
       " 'some': 0.01965555778063449,\n",
       " 'am': 0.008609117512160773,\n",
       " 'watching': 0.003598813961150122,\n",
       " '78': 0.002197660221833192,\n",
       " '99': 0.002229959754781946,\n",
       " 'wonder': 0.0019373259862662385,\n",
       " 'valued': 0.0010490888301755157,\n",
       " '6th': 0.00025904225424900354,\n",
       " 'inning': 4.4573355469279915e-05,\n",
       " 'ge': 0.002403085251387265,\n",
       " 'b7127dd5': 0.00018475332846687036,\n",
       " 'bca3': 0.00018475332846687036,\n",
       " '4d9e': 0.00018475332846687036,\n",
       " '9c45': 0.00018927526307969587,\n",
       " 'f4fe38eb7902': 0.00018475332846687036,\n",
       " 'newtrader0126': 5.16792527180057e-06,\n",
       " 'higher': 0.01646307194397969,\n",
       " 'also': 0.0051143080471056385,\n",
       " 'shorted': 0.0019205302291328866,\n",
       " '165': 0.000906970885201,\n",
       " '175': 0.0013578723651655998,\n",
       " 'consolidation': 0.0013113610377193945,\n",
       " 'cautious': 0.0003333311800311367,\n",
       " 'stunned': 2.7131607676952992e-05,\n",
       " 'deeply': 5.9431140625706555e-05,\n",
       " 'disappointed': 0.00029521773115160754,\n",
       " 'close': 0.019063830337013327,\n",
       " '69': 0.0020645861460843276,\n",
       " 'ending': 0.0007842326599957365,\n",
       " '430': 0.00013953398233861538,\n",
       " 'killed': 0.000788754594608562,\n",
       " 'best': 0.006448924748548136,\n",
       " 'february': 0.0002422464971156517,\n",
       " '782': 3.4237504925678774e-05,\n",
       " 'funny': 0.0016291884419351297,\n",
       " 'thing': 0.008144004237698723,\n",
       " 'similar': 0.000734491379254656,\n",
       " 'story': 0.001714459208919839,\n",
       " 'different': 0.001006453446683161,\n",
       " 'crab': 2.519363570002778e-05,\n",
       " 'measured': 0.0003158894322388098,\n",
       " 'divergence': 0.0004999967700467052,\n",
       " 'really': 0.007291296567851629,\n",
       " 'momentum': 0.0021924922965613916,\n",
       " 'starting': 0.0020994696416689815,\n",
       " 'shi': 3.81134488795292e-05,\n",
       " '229': 0.0002060710202130477,\n",
       " 'venture': 0.0001931512070335463,\n",
       " 'tariff': 0.0052112066459519,\n",
       " 'increase': 0.0025729807946977086,\n",
       " 'profit': 0.010409493478724297,\n",
       " 'recession': 0.000671184294675099,\n",
       " 'come': 0.011937907377859316,\n",
       " 'keep': 0.009674356108810667,\n",
       " 'buying': 0.015391373440740047,\n",
       " 'pure': 0.0006027092848237414,\n",
       " 'beanscreen': 1.2919813179501424e-06,\n",
       " 'q3': 0.021574150037790455,\n",
       " 'min': 0.00276548601107228,\n",
       " 'indicating': 0.0002784219740182557,\n",
       " 'accumulation': 0.00047286516236975213,\n",
       " 'eod': 0.003331373828334442,\n",
       " 'could': 0.010475384525939754,\n",
       " 'pop': 0.004898547167007965,\n",
       " 'heavy': 0.0011078739801422472,\n",
       " '244': 0.00010465048675396154,\n",
       " 'apog': 4.5219346128254985e-06,\n",
       " 'acn': 4.5219346128254986e-05,\n",
       " 'camp': 4.0051420856454416e-05,\n",
       " 'gi': 6.52450565564822e-05,\n",
       " 'payx': 2.648561701797792e-05,\n",
       " 'fdx': 0.00010723444938986183,\n",
       " 'goo': 0.0001143403466385876,\n",
       " 'squeeze': 0.0036724568962732797,\n",
       " 'pullback': 0.0029347355637237486,\n",
       " '163': 0.00029327975917468234,\n",
       " 'upside': 0.003344293641513944,\n",
       " 'nvda': 0.0022732411289332756,\n",
       " 'safe': 0.0012855214113603917,\n",
       " 'yield': 0.0016278964606171794,\n",
       " 'div': 0.001423117421722082,\n",
       " '68': 0.002094947707056156,\n",
       " 'adding': 0.0019101943785892856,\n",
       " '51': 0.0028346070115826123,\n",
       " 'gladly': 5.8785149966731484e-05,\n",
       " 'irrationality': 1.550377581540171e-05,\n",
       " 'reign': 2.583962635900285e-05,\n",
       " 'possible': 0.002695719019902972,\n",
       " 'excess': 4.26353834923547e-05,\n",
       " 'gain': 0.007546462878146782,\n",
       " 'welcome': 0.0008662734736855705,\n",
       " 'gl': 0.001941847920879064,\n",
       " 'seeing': 0.0016550280682941325,\n",
       " 'jumping': 0.00045671539589537535,\n",
       " 'joy': 0.00017570945924121937,\n",
       " 'least': 0.0035665144282013683,\n",
       " 'given': 0.0019282821170405876,\n",
       " 'action': 0.004415346154094612,\n",
       " ...}"
      ]
     },
     "execution_count": 15,
     "metadata": {},
     "output_type": "execute_result"
    }
   ],
   "source": [
    "freqs"
   ]
  },
  {
   "cell_type": "code",
   "execution_count": 16,
   "metadata": {},
   "outputs": [],
   "source": [
    "from matplotlib import pyplot as plt\n",
    "plt.rcParams[\"figure.figsize\"] = (20,10)"
   ]
  },
  {
   "cell_type": "code",
   "execution_count": 17,
   "metadata": {},
   "outputs": [],
   "source": [
    "import numpy as np"
   ]
  },
  {
   "cell_type": "markdown",
   "metadata": {},
   "source": [
    "# The most of words are not used more than 100,000"
   ]
  },
  {
   "cell_type": "markdown",
   "metadata": {},
   "source": [
    "# ---> set 'high_cut_off' : 20"
   ]
  },
  {
   "cell_type": "code",
   "execution_count": 18,
   "metadata": {},
   "outputs": [
    {
     "data": {
      "text/plain": [
       "([<matplotlib.axis.YTick at 0x7f32cd92c0f0>],\n",
       " <a list of 1 Text yticklabel objects>)"
      ]
     },
     "execution_count": 18,
     "metadata": {},
     "output_type": "execute_result"
    },
    {
     "data": {
      "image/png": "[encoded data removed]",
      "text/plain": [
       "<matplotlib.figure.Figure at 0x7f32cd8f9710>"
      ]
     },
     "metadata": {
      "needs_background": "light"
     },
     "output_type": "display_data"
    }
   ],
   "source": [
    "plt.boxplot(bow.values(),\n",
    "            notch=1,\n",
    "            vert=False,\n",
    "           )\n",
    "plt.title(\"Box plot of the number of token used\")\n",
    "plt.yticks([1], ['Token'])"
   ]
  },
  {
   "cell_type": "markdown",
   "metadata": {},
   "source": [
    "# In below three graphs, we can find that exponential decrease is fading after 'word used count '> 100"
   ]
  },
  {
   "cell_type": "markdown",
   "metadata": {},
   "source": [
    "## low = 100\n",
    "## low_cutoff = 100/len(tokenized)"
   ]
  },
  {
   "cell_type": "code",
   "execution_count": 19,
   "metadata": {},
   "outputs": [
    {
     "data": {
      "image/png": "[encoded data removed]",
      "text/plain": [
       "<matplotlib.figure.Figure at 0x7f32cd8f3940>"
      ]
     },
     "metadata": {
      "needs_background": "light"
     },
     "output_type": "display_data"
    }
   ],
   "source": [
    "rge = plt.hist(bow.values(), bins=100, range=(0, 10))"
   ]
  },
  {
   "cell_type": "code",
   "execution_count": 49,
   "metadata": {},
   "outputs": [
    {
     "data": {
      "image/png": "[encoded data removed]",
      "text/plain": [
       "<matplotlib.figure.Figure at 0x7f32cd6950b8>"
      ]
     },
     "metadata": {
      "needs_background": "light"
     },
     "output_type": "display_data"
    }
   ],
   "source": [
    "rge = plt.hist(bow.values(), bins=100, range=(10, 100))"
   ]
  },
  {
   "cell_type": "code",
   "execution_count": 50,
   "metadata": {},
   "outputs": [
    {
     "data": {
      "image/png": "[encoded data removed]",
      "text/plain": [
       "<matplotlib.figure.Figure at 0x7f32cd6d0400>"
      ]
     },
     "metadata": {
      "needs_background": "light"
     },
     "output_type": "display_data"
    }
   ],
   "source": [
    "rge = plt.hist(bow.values(), bins=100, range=(100, 150))"
   ]
  },
  {
   "cell_type": "code",
   "execution_count": 48,
   "metadata": {},
   "outputs": [
    {
     "name": "stdout",
     "output_type": "stream",
     "text": [
      "The number of selected token :6784,  which is used between 100~100000 times\n",
      "This is 4.90% amount of words in original bow\n",
      "\n",
      "Words which was used more than 100 words start from word like below\n",
      "---> bullflag, stryker, fab, levermann, coil, stability, lotta, denied, rocketing, boner, frontier, 9, marketplace, gig, crater, modern, alb, prosper, disappeared, richest\n",
      "\n",
      "outlier words(14.84% of selected_bow) start from word like below\n",
      "---> health, picked, overweight, tran, alerted, whale, utm, setupalert, maxgain, daystoexpire, sincealerted ... etc\n",
      "\n"
     ]
    },
    {
     "data": {
      "image/png": "[encoded data removed]",
      "text/plain": [
       "<matplotlib.figure.Figure at 0x7f32cd6d7b70>"
      ]
     },
     "metadata": {
      "needs_background": "light"
     },
     "output_type": "display_data"
    }
   ],
   "source": [
    "low = 100\n",
    "high = 100000\n",
    "selected_bow = { w:c for w, c in bow.items() if low<= c <=high}\n",
    "sorted_word = [k for k, v in sorted(selected_bow.items(), key=lambda kv:kv[1])]\n",
    "\n",
    "r = plt.boxplot(selected_bow.values(),\n",
    "            notch=1,\n",
    "            vert=False,\n",
    "           )\n",
    "#plt.title()\n",
    "plt.yticks([1], ['Token'])\n",
    "\n",
    "print(f\"The number of selected token :{len(selected_bow)}, \"\n",
    "      f\" which is used between {low}~{high} times\")\n",
    "print(f\"This is {len(selected_bow)*100/len(bow):4.2f}% amount of words in original bow\\n\")\n",
    "\n",
    "\n",
    "print(f\"Words which was used more than {low} words start from word like below\\n\"\n",
    "      f\"---> {', '.join(sorted_word[:20])}\\n\")\n",
    "\n",
    "      \n",
    "outlier_count = [count for count in r['fliers'][0].get_xdata()[-10:]]\n",
    "outlier_words = [ w for w, c in selected_bow.items() if c in outlier_count]\n",
    "print(f\"outlier words({len(r['fliers'][0].get_xdata())*100/len(selected_bow):4.2f}% of selected_bow) \"\n",
    "      f\"start from word like below\\n\"\n",
    "      f\"---> {', '.join(outlier_words)} ... etc\\n\")"
   ]
  },
  {
   "cell_type": "markdown",
   "metadata": {},
   "source": [
    "# So, using EDA, we drop 95% words in original vocab. "
   ]
  },
  {
   "cell_type": "code",
   "execution_count": 23,
   "metadata": {
    "scrolled": true
   },
   "outputs": [
    {
     "name": "stdout",
     "output_type": "stream",
     "text": [
      "['the', 'to', 'is', 'for', 'on', 'of', 'and', 'in', 'this', '39', 'it', 'at', 'will', 'up', 'are', 'you', 'that', 'be', 'short', '10']\n"
     ]
    },
    {
     "data": {
      "text/plain": [
       "6741"
      ]
     },
     "execution_count": 23,
     "metadata": {},
     "output_type": "execute_result"
    }
   ],
   "source": [
    "\"\"\"\n",
    "Set the following variables:\n",
    "    freqs\n",
    "    low_cutoff\n",
    "    high_cutoff\n",
    "    K_most_common\n",
    "\"\"\"\n",
    "low = 100\n",
    "\n",
    "total = len(tokenized)\n",
    "# Dictionart that contains the Frequency of words appearing in messages.\n",
    "# The key is the token and the value is the frequency of that word in the corpus.\n",
    "freqs = { w:c/num_of_messages for w, c in bow.items()}\n",
    "\n",
    "# Float that is the frequency cutoff. Drop words with a frequency that is lower or equal to this number.\n",
    "low_cutoff = low/total\n",
    "\n",
    "# Integer that is the cut off for most common words. Drop words that are the `high_cutoff` most common words.\n",
    "high_cutoff = 20\n",
    "\n",
    "# The k most common words in the corpus. Use `high_cutoff` as the k.\n",
    "K_most_common = [ w for w, f, in bow.most_common(high_cutoff)]\n",
    "\n",
    "\n",
    "filtered_words = [word for word in freqs if (freqs[word] > low_cutoff and word not in K_most_common)]\n",
    "print(K_most_common)\n",
    "len(filtered_words) "
   ]
  },
  {
   "cell_type": "code",
   "execution_count": 45,
   "metadata": {},
   "outputs": [],
   "source": [
    "common_20 = K_most_common = [ w for w, f, in bow.most_common(20)]\n",
    "common_30 = K_most_common = [ w for w, f, in bow.most_common(30)]"
   ]
  },
  {
   "cell_type": "code",
   "execution_count": 47,
   "metadata": {},
   "outputs": [
    {
     "data": {
      "text/plain": [
       "{'2018',\n",
       " 'buy',\n",
       " 'down',\n",
       " 'here',\n",
       " 'just',\n",
       " 'not',\n",
       " 'stock',\n",
       " 'today',\n",
       " 'what',\n",
       " 'with'}"
      ]
     },
     "execution_count": 47,
     "metadata": {},
     "output_type": "execute_result"
    }
   ],
   "source": [
    "set(common_30) - set(common_20)"
   ]
  },
  {
   "cell_type": "markdown",
   "metadata": {},
   "source": [
    "### Updating Vocabulary by Removing Filtered Words\n",
    "Let's creat three variables that will help with our vocabulary."
   ]
  },
  {
   "cell_type": "code",
   "execution_count": 24,
   "metadata": {},
   "outputs": [],
   "source": [
    "\"\"\"\n",
    "Set the following variables:\n",
    "    vocab\n",
    "    id2vocab\n",
    "    filtered\n",
    "\"\"\"\n",
    "\n",
    "# A dictionary for the `filtered_words`. The key is the word and value is an id that represents the word. \n",
    "vocab = { v:i for i, v in enumerate(filtered_words)}\n",
    "\n",
    "# Reverse of the `vocab` dictionary. The key is word id and value is the word. \n",
    "id2vocab = {i:v for i, v in vocab.items()}\n",
    "\n",
    "# tokenized with the words not in `filtered_words` removed.\n",
    "filtered = [[word for word in message if word in vocab] for message in tokenized]"
   ]
  },
  {
   "cell_type": "markdown",
   "metadata": {},
   "source": [
    "### Balancing the classes\n",
    "Let's do a few last pre-processing steps. If we look at how our twits are labeled, we'll find that **50% of them are neutral.** This means that our network will be 50% accurate just by guessing 0 every single time. To help our network learn appropriately, we'll want to balance our classes.\n",
    "That is, make sure each of our different sentiment scores show up roughly as frequently in the data.\n",
    "\n",
    "What we can do here is go through each of our examples and **randomly drop twits with neutral sentiment**. What should be the probability we drop these twits if we want to get around 20% neutral twits starting at 50% neutral? We should also take this opportunity to remove messages with length 0."
   ]
  },
  {
   "cell_type": "code",
   "execution_count": 29,
   "metadata": {},
   "outputs": [],
   "source": [
    "balanced = {'messages': [], 'sentiments':[]}\n",
    "\n",
    "n_neutral = sum(1 for each in sentiments if each == 2)\n",
    "N_examples = len(sentiments)\n",
    "keep_prob = (N_examples - n_neutral)/4/n_neutral\n"
   ]
  },
  {
   "cell_type": "code",
   "execution_count": 30,
   "metadata": {},
   "outputs": [
    {
     "data": {
      "text/plain": [
       "0.3016022730997995"
      ]
     },
     "execution_count": 30,
     "metadata": {},
     "output_type": "execute_result"
    }
   ],
   "source": [
    "keep_prob"
   ]
  },
  {
   "cell_type": "code",
   "execution_count": 31,
   "metadata": {},
   "outputs": [],
   "source": [
    "balanced = {'messages': [], 'sentiments':[]}\n",
    "\n",
    "n_neutral = sum(1 for each in sentiments if each == 2)\n",
    "N_examples = len(sentiments)\n",
    "keep_prob = (N_examples - n_neutral)/4/n_neutral\n",
    "\n",
    "for idx, sentiment in enumerate(sentiments):\n",
    "    message = filtered[idx]\n",
    "    if len(message) == 0:\n",
    "        # skip this message because it has length zero\n",
    "        continue\n",
    "    \n",
    "    # 감정이 중립이 아니거나 or 30% 유지\n",
    "    elif sentiment != 2 or random.random() < keep_prob:\n",
    "        balanced['messages'].append(message)\n",
    "        balanced['sentiments'].append(sentiment) "
   ]
  },
  {
   "cell_type": "markdown",
   "metadata": {},
   "source": [
    "If you did it correctly, you should see the following result "
   ]
  },
  {
   "cell_type": "code",
   "execution_count": 32,
   "metadata": {},
   "outputs": [
    {
     "data": {
      "text/plain": [
       "0.19358702573420927"
      ]
     },
     "execution_count": 32,
     "metadata": {},
     "output_type": "execute_result"
    }
   ],
   "source": [
    "n_neutral = sum(1 for each in balanced['sentiments'] if each == 2)\n",
    "N_examples = len(balanced['sentiments'])\n",
    "n_neutral/N_examples"
   ]
  },
  {
   "cell_type": "markdown",
   "metadata": {},
   "source": [
    "Finally let's convert our tokens into integer ids which we can pass to the network."
   ]
  },
  {
   "cell_type": "code",
   "execution_count": 33,
   "metadata": {},
   "outputs": [],
   "source": [
    "token_ids = [[vocab[word] for word in message] for message in balanced['messages']]\n",
    "sentiments = balanced['sentiments']"
   ]
  },
  {
   "cell_type": "markdown",
   "metadata": {},
   "source": [
    "## Neural Network\n",
    "Now we have our vocabulary which means we can transform our tokens into ids, which are then passed to our network. So, let's define the network now!\n",
    "\n",
    "Here is a nice diagram showing the network we'd like to build: \n",
    "\n",
    "#### Embed -> RNN -> Dense -> Softmax\n",
    "### Implement the text classifier\n",
    "Before we build text classifier, if you remember from the other network that you built in  \"Sentiment Analysis with an RNN\"  exercise  - which there, the network called \" SentimentRNN\", here we named it \"TextClassifer\" - consists of three main parts: 1) init function `__init__` 2) forward pass `forward`  3) hidden state `init_hidden`. \n",
    "\n",
    "This network is pretty similar to the network you built expect in the  `forward` pass, we use softmax instead of sigmoid. The reason we are not using sigmoid is that the output of NN is not a binary. In our network, sentiment scores have 5 possible outcomes. We are looking for an outcome with the highest probability thus softmax is a better choice."
   ]
  },
  {
   "cell_type": "markdown",
   "metadata": {},
   "source": [
    "# I prefer 'batch_first' shape !"
   ]
  },
  {
   "cell_type": "code",
   "execution_count": 34,
   "metadata": {},
   "outputs": [
    {
     "data": {
      "text/plain": [
       "'0.4.0'"
      ]
     },
     "execution_count": 34,
     "metadata": {},
     "output_type": "execute_result"
    }
   ],
   "source": [
    "torch.__version__"
   ]
  },
  {
   "cell_type": "code",
   "execution_count": 35,
   "metadata": {},
   "outputs": [],
   "source": [
    "class TextClassifier(nn.Module):\n",
    "    def __init__(self, vocab_size, embed_size, lstm_size, output_size, lstm_layers=1, dropout=0.1, pad_idx=0):\n",
    "        \"\"\"\n",
    "        Initialize the model by setting up the layers.\n",
    "        \n",
    "        Parameters\n",
    "        ----------\n",
    "            vocab_size : The vocabulary size.\n",
    "            embed_size : The embedding layer size.\n",
    "            lstm_size : The LSTM layer size.\n",
    "            output_size : The output size.\n",
    "            lstm_layers : The number of LSTM layers.\n",
    "            dropout : The dropout probability.\n",
    "        \"\"\"\n",
    "        \n",
    "        super().__init__()\n",
    "        self.vocab_size = vocab_size\n",
    "        self.embed_size = embed_size\n",
    "        self.lstm_size = lstm_size\n",
    "        self.output_size = output_size\n",
    "        self.lstm_layers = lstm_layers\n",
    "        self.dropout = dropout\n",
    "        self.pad_idx = pad_idx\n",
    "        \n",
    "        # Setup embedding layer\n",
    "        self.embedding = nn.Embedding(num_embeddings=vocab_size,\n",
    "                                      embedding_dim=embed_size,\n",
    "                                      padding_idx=pad_idx\n",
    "                                     )\n",
    "        \n",
    "        # Setup additional layers\n",
    "        self.lstm = nn.LSTM(input_size=embed_size,\n",
    "                            hidden_size=lstm_size,\n",
    "                            num_layers=lstm_layers,\n",
    "                            batch_first=True,\n",
    "                            dropout=dropout\n",
    "                           )\n",
    "        \n",
    "        self.dropout = nn.Dropout(p=dropout)\n",
    "        \n",
    "        self.linear = nn.Linear(lstm_size, output_size)\n",
    "        self.log_softmax = nn.LogSoftmax(dim=1)\n",
    " \n",
    "    def init_hidden(self, batch_size):\n",
    "        \"\"\" \n",
    "        Initializes hidden state\n",
    "        \n",
    "        Parameters\n",
    "        ----------\n",
    "            batch_size : The size of batches.\n",
    "        \n",
    "        Returns\n",
    "        -------\n",
    "            hidden_state\n",
    "            \n",
    "        \"\"\"\n",
    "        # Create two new tensors with sizes n_layers x batch_size x hidden_dim,\n",
    "        # initialized to zero, for hidden state and cell state of LSTM\n",
    "        return (torch.zeros(self.lstm_layers, batch_size, self.lstm_size),\n",
    "                torch.zeros(self.lstm_layers, batch_size, self.lstm_size))\n",
    "\n",
    "\n",
    "    def forward(self, nn_input, hidden_state, lengths):\n",
    "        \"\"\"\n",
    "        Perform a forward pass of our model on nn_input.\n",
    "        \n",
    "        Parameters\n",
    "        ----------\n",
    "            nn_input : The batch of input to the NN.\n",
    "            hidden_state : The LSTM hidden state.\n",
    "\n",
    "        Returns\n",
    "        -------\n",
    "            logps: log softmax output\n",
    "            hidden_state: The new hidden state.\n",
    "\n",
    "        \"\"\"\n",
    "        embeddings = self.embedding(nn_input)\n",
    "        pad_pack = pack_padded_sequence(embeddings,\n",
    "                                        lengths,\n",
    "                                        batch_first=True,\n",
    "                                       )\n",
    "        pad_pack_lstm = self.lstm(pad_pack)\n",
    "        seq, (ht, ct) = pad_pack_lstm\n",
    "        lstm_output = self.dropout(ht[-1])\n",
    "        \n",
    "        fc_output = self.linear(lstm_output) # batch_size, hidden_size\n",
    "        log_softmax = self.log_softmax(fc_output)\n",
    "        \n",
    "        return log_softmax, ht"
   ]
  },
  {
   "cell_type": "markdown",
   "metadata": {},
   "source": [
    "### View Model"
   ]
  },
  {
   "cell_type": "code",
   "execution_count": 36,
   "metadata": {},
   "outputs": [
    {
     "name": "stdout",
     "output_type": "stream",
     "text": [
      "tensor([[-1.7469, -1.4661, -1.6829, -2.0134, -1.2892],\n",
      "        [-1.7288, -1.4654, -1.7396, -1.9946, -1.2735],\n",
      "        [-1.7549, -1.4393, -1.7346, -1.8903, -1.3375],\n",
      "        [-1.7386, -1.4609, -1.7143, -1.9963, -1.2864],\n",
      "        [-1.7306, -1.4625, -1.7160, -2.0102, -1.2822]])\n"
     ]
    }
   ],
   "source": [
    "model = TextClassifier(len(vocab), 10, 6, 5, dropout=0.1, lstm_layers=2)\n",
    "model.embedding.weight.data.uniform_(-1, 1)\n",
    "input = torch.randint(0, 1000, (5, 4), dtype=torch.int64)\n",
    "hidden = model.init_hidden(4)\n",
    "\n",
    "logps, _ = model.forward(input, hidden, torch.LongTensor([4, 4, 4, 4, 4]))\n",
    "print(logps)"
   ]
  },
  {
   "cell_type": "markdown",
   "metadata": {},
   "source": [
    "## Training\n",
    "### DataLoaders and Batching\n",
    "Now we should build a generator that we can use to loop through our data. It'll be more efficient if we can pass our sequences in as batches. Our input tensors should look like `(sequence_length, batch_size)`. So if our sequences are 40 tokens long and we pass in 25 sequences, then we'd have an input size of `(40, 25)`.\n",
    "\n",
    "If we set our sequence length to 40, what do we do with messages that are more or less than 40 tokens? For messages with fewer than 40 tokens, we will pad the empty spots with zeros. We should be sure to **left** pad so that the RNN starts from nothing before going through the data. If the message has 20 tokens, then the first 20 spots of our 40 long sequence will be 0. If a message has more than 40 tokens, we'll just keep the first 40 tokens."
   ]
  },
  {
   "cell_type": "markdown",
   "metadata": {},
   "source": [
    "# padding left zeros is not best choice to deal with different length of sequences in type of RNN, If I want to take advantage of cuDNN for performance."
   ]
  },
  {
   "cell_type": "code",
   "execution_count": 51,
   "metadata": {},
   "outputs": [],
   "source": [
    "def dataloader(messages, labels, sequence_length=30, batch_size=32, shuffle=False, pad_idx=0):\n",
    "    \"\"\" \n",
    "    Build a dataloader.\n",
    "    \"\"\"\n",
    "    \n",
    "    if shuffle:\n",
    "        indices = list(range(len(messages)))\n",
    "        random.shuffle(indices)\n",
    "        messages = [messages[idx] for idx in indices]\n",
    "        labels = [labels[idx] for idx in indices]\n",
    "\n",
    "    total_sequences = len(messages)\n",
    "\n",
    "    for ii in range(0, total_sequences, batch_size):\n",
    "        batch_messages = messages[ii: ii+batch_size]\n",
    "        batch_messages = [m[:sequence_length] for m in batch_messages]\n",
    "        \n",
    "        input_lengths = torch.Tensor([len(t) for t in batch_messages])\n",
    "        input_lengths, sorted_idx = input_lengths.sort(0, descending=True)\n",
    "        \n",
    "        batch = [ torch.LongTensor(batch_messages[i]) for i in sorted_idx]\n",
    "        batch = pad_sequence(batch,\n",
    "                             batch_first=True,\n",
    "                             padding_value=pad_idx\n",
    "                            )\n",
    "        \n",
    "        label_tensor = labels[ii: ii+len(batch_messages)]\n",
    "        label_tensor = [label_tensor[idx] for idx in sorted_idx ]\n",
    "            \n",
    "        label_tensor = torch.tensor(label_tensor)\n",
    "        \n",
    "        yield batch, label_tensor, input_lengths.type(torch.LongTensor)"
   ]
  },
  {
   "cell_type": "markdown",
   "metadata": {},
   "source": [
    "### Training and  Validation\n",
    "With our data in nice shape, we'll split it into training and validation sets."
   ]
  },
  {
   "cell_type": "code",
   "execution_count": 38,
   "metadata": {},
   "outputs": [],
   "source": [
    "from sklearn.model_selection import train_test_split\n",
    "\"\"\"\n",
    "Split data into training and validation datasets. Use an appropriate split size.\n",
    "The features are the `token_ids` and the labels are the `sentiments`.\n",
    "\"\"\"   \n",
    "\n",
    "split_fraction = 0.3\n",
    "\n",
    "train_features, valid_features, train_labels, valid_labels = train_test_split(token_ids,\n",
    "                                                                              sentiments,\n",
    "                                                                              test_size=split_fraction)"
   ]
  },
  {
   "cell_type": "code",
   "execution_count": 39,
   "metadata": {},
   "outputs": [
    {
     "data": {
      "text/plain": [
       "(721156, 721156)"
      ]
     },
     "execution_count": 39,
     "metadata": {},
     "output_type": "execute_result"
    }
   ],
   "source": [
    "len(train_features), len(train_labels)"
   ]
  },
  {
   "cell_type": "code",
   "execution_count": 40,
   "metadata": {},
   "outputs": [
    {
     "data": {
      "text/plain": [
       "(309068, 309068)"
      ]
     },
     "execution_count": 40,
     "metadata": {},
     "output_type": "execute_result"
    }
   ],
   "source": [
    "len(valid_features), len(valid_labels)"
   ]
  },
  {
   "cell_type": "code",
   "execution_count": 41,
   "metadata": {},
   "outputs": [],
   "source": [
    "text_batch, labels, lengths = next(iter(dataloader(train_features, train_labels, sequence_length=20, batch_size=64)))\n",
    "model = TextClassifier(len(vocab)+1, 200, 128, 5, dropout=0.)\n",
    "hidden = model.init_hidden(64)\n",
    "logps, hidden = model.forward(text_batch, hidden, lengths)"
   ]
  },
  {
   "cell_type": "code",
   "execution_count": 42,
   "metadata": {},
   "outputs": [
    {
     "data": {
      "text/plain": [
       "torch.Size([64, 20])"
      ]
     },
     "execution_count": 42,
     "metadata": {},
     "output_type": "execute_result"
    }
   ],
   "source": [
    "text_batch.shape"
   ]
  },
  {
   "cell_type": "markdown",
   "metadata": {},
   "source": [
    "### Training\n",
    "It's time to train the neural network!"
   ]
  },
  {
   "cell_type": "code",
   "execution_count": 43,
   "metadata": {},
   "outputs": [
    {
     "data": {
      "text/plain": [
       "TextClassifier(\n",
       "  (embedding): Embedding(6742, 1024, padding_idx=0)\n",
       "  (lstm): LSTM(1024, 512, num_layers=2, batch_first=True, dropout=0.2)\n",
       "  (dropout): Dropout(p=0.2)\n",
       "  (linear): Linear(in_features=512, out_features=5, bias=True)\n",
       "  (log_softmax): LogSoftmax()\n",
       ")"
      ]
     },
     "execution_count": 43,
     "metadata": {},
     "output_type": "execute_result"
    }
   ],
   "source": [
    "device = torch.device(\"cuda\" if torch.cuda.is_available() else \"cpu\")\n",
    "model = TextClassifier(len(vocab)+1, 1024, 512, 5, lstm_layers=2, dropout=0.2)\n",
    "model.embedding.weight.data.uniform_(-1, 1)\n",
    "model.to(device)"
   ]
  },
  {
   "cell_type": "markdown",
   "metadata": {},
   "source": [
    "# low=100, high limt word = 20"
   ]
  },
  {
   "cell_type": "code",
   "execution_count": 44,
   "metadata": {},
   "outputs": [
    {
     "name": "stdout",
     "output_type": "stream",
     "text": [
      "Starting epoch 1\n",
      "[Epoc: 1/2] avg val_loss:0.00199 | validation_acc:59.00%\n",
      "[Epoc: 1/2] avg val_loss:0.00178 | validation_acc:63.00%\n",
      "[Epoc: 1/2] avg val_loss:0.00169 | validation_acc:66.00%\n",
      "[Epoc: 1/2] avg val_loss:0.00164 | validation_acc:67.00%\n",
      "[Epoc: 1/2] avg val_loss:0.00159 | validation_acc:68.00%\n",
      "[Epoc: 1/2] avg val_loss:0.00156 | validation_acc:68.00%\n",
      "[Epoc: 1/2] avg val_loss:0.00154 | validation_acc:69.00%\n",
      "[Epoc: 1/2] avg val_loss:0.00152 | validation_acc:69.00%\n",
      "[Epoc: 1/2] avg val_loss:0.00150 | validation_acc:70.00%\n",
      "[Epoc: 1/2] avg val_loss:0.00149 | validation_acc:70.00%\n",
      "[Epoc: 1/2] avg val_loss:0.00148 | validation_acc:70.00%\n",
      "[Epoc: 1/2] avg val_loss:0.00146 | validation_acc:70.00%\n",
      "[Epoc: 1/2] avg val_loss:0.00146 | validation_acc:70.00%\n",
      "[Epoc: 1/2] avg val_loss:0.00145 | validation_acc:71.00%\n",
      "Starting epoch 2\n",
      "[Epoc: 2/2] avg val_loss:0.00145 | validation_acc:71.00%\n",
      "[Epoc: 2/2] avg val_loss:0.00145 | validation_acc:71.00%\n",
      "[Epoc: 2/2] avg val_loss:0.00145 | validation_acc:71.00%\n",
      "[Epoc: 2/2] avg val_loss:0.00144 | validation_acc:71.00%\n",
      "[Epoc: 2/2] avg val_loss:0.00144 | validation_acc:71.00%\n",
      "[Epoc: 2/2] avg val_loss:0.00143 | validation_acc:71.00%\n",
      "[Epoc: 2/2] avg val_loss:0.00143 | validation_acc:71.00%\n",
      "[Epoc: 2/2] avg val_loss:0.00142 | validation_acc:71.00%\n",
      "[Epoc: 2/2] avg val_loss:0.00142 | validation_acc:71.00%\n",
      "[Epoc: 2/2] avg val_loss:0.00142 | validation_acc:71.00%\n",
      "[Epoc: 2/2] avg val_loss:0.00142 | validation_acc:71.00%\n",
      "[Epoc: 2/2] avg val_loss:0.00142 | validation_acc:71.00%\n",
      "[Epoc: 2/2] avg val_loss:0.00141 | validation_acc:71.00%\n",
      "[Epoc: 2/2] avg val_loss:0.00141 | validation_acc:72.00%\n"
     ]
    }
   ],
   "source": [
    "\n",
    "\"\"\"\n",
    "Train your model with dropout. Make sure to clip your gradients.\n",
    "Print the training loss, validation loss, and validation accuracy for every 100 steps.\n",
    "\"\"\"\n",
    "\n",
    "epochs = 2\n",
    "batch_size = 512\n",
    "learning_rate = 1e-3\n",
    "max_grad_norm = 5\n",
    "valid_data_size = len(valid_labels)\n",
    "\n",
    "print_every = 100\n",
    "criterion = nn.NLLLoss()\n",
    "optimizer = optim.Adam(model.parameters(), lr=learning_rate)\n",
    "model.train()\n",
    "\n",
    "for epoch in range(epochs):\n",
    "    print('Starting epoch {}'.format(epoch + 1))\n",
    "    \n",
    "    steps = 0\n",
    "    for text_batch, labels, lengths in dataloader(\n",
    "            train_features, train_labels, batch_size=batch_size, sequence_length=20, shuffle=True):\n",
    "        steps += 1\n",
    "        hidden = model.init_hidden(labels.shape[0])\n",
    "        \n",
    "        # Set Device\n",
    "        text_batch, labels, lengths = text_batch.to(device), labels.to(device), lengths.to(device)\n",
    "        for each in hidden:\n",
    "            each.to(device)\n",
    "        \n",
    "        # Train Model\n",
    "        optimizer.zero_grad()\n",
    "        model_output, ht = model(text_batch, hidden, lengths)\n",
    "        \n",
    "        loss = criterion(model_output, labels)\n",
    "        loss.backward()\n",
    "        \n",
    "        nn.utils.clip_grad_norm_(model.parameters(), max_norm=max_grad_norm)\n",
    "        optimizer.step()\n",
    "        \n",
    "        if steps % print_every == 0:\n",
    "            model.eval()\n",
    "            \n",
    "            corrects, total_loss = 0, 0\n",
    "            # TODO Implement: Print metrics\n",
    "            for text_batch, labels, lengths in dataloader(valid_features,\n",
    "                                                          valid_labels,\n",
    "                                                          batch_size=batch_size,\n",
    "                                                          sequence_length=20):\n",
    "                \n",
    "                text_batch, labels, lengths = text_batch.to(device), labels.to(device), lengths.to(device)\n",
    "                hidden = model.init_hidden(labels.shape[0])\n",
    "                for each in hidden:\n",
    "                    each.to(device)\n",
    "                \n",
    "                model_output, ht = model(text_batch, hidden, lengths)\n",
    "                val_loss = criterion(model_output, labels)\n",
    "                total_loss += val_loss.item()\n",
    "                corrects += (model_output.max(1)[1].view(labels.size()).data == labels.data).sum()\n",
    "                \n",
    "            model.train()\n",
    "            val_accuracy = 100.0 * corrects / valid_data_size\n",
    "            print(f\"[Epoc: {epoch+1}/{epochs}] avg val_loss:{total_loss/valid_data_size:5.5f} | validation_acc:{val_accuracy:5.2f}%\")"
   ]
  },
  {
   "cell_type": "markdown",
   "metadata": {},
   "source": [
    "# We can get good performance using only 5% words of original vocab !"
   ]
  },
  {
   "cell_type": "markdown",
   "metadata": {},
   "source": [
    "## Making Predictions\n",
    "### Prediction \n",
    "Okay, now that you have a trained model, try it on some new twits and see if it works appropriately. Remember that for any new text, you'll need to preprocess it first before passing it to the network. Implement the `predict` function to generate the prediction vector from a message."
   ]
  },
  {
   "cell_type": "code",
   "execution_count": 52,
   "metadata": {},
   "outputs": [],
   "source": [
    "def predict(text, model, vocab):\n",
    "    \"\"\" \n",
    "    Make a prediction on a single sentence.\n",
    "\n",
    "    Parameters\n",
    "    ----------\n",
    "        text : The string to make a prediction on.\n",
    "        model : The model to use for making the prediction.\n",
    "        vocab : Dictionary for word to word ids. The key is the word and the value is the word id.\n",
    "\n",
    "    Returns\n",
    "    -------\n",
    "        pred : Prediction vector\n",
    "    \"\"\"    \n",
    "    \n",
    "    # TODO Implement\n",
    "    \n",
    "    tokens = preprocess(text)\n",
    "    \n",
    "    # Filter non-vocab words\n",
    "    tokens = [ token for token in tokens if token in vocab]\n",
    "    # Convert words to ids\n",
    "    tokens = [ vocab[token] for token in tokens]\n",
    "        \n",
    "    # Adding a batch dimension\n",
    "    text_input = torch.LongTensor(tokens).unsqueeze(0)\n",
    "    print(text_input.shape)\n",
    "    # Get the NN output\n",
    "    hidden = model.init_hidden(1)\n",
    "    logps, _ = model(text_input, hidden, [len(tokens)])\n",
    "    # Take the exponent of the NN output to get a range of 0 to 1 for each label.\n",
    "    pred = torch.exp(logps)\n",
    "    \n",
    "    return pred"
   ]
  },
  {
   "cell_type": "code",
   "execution_count": 53,
   "metadata": {},
   "outputs": [
    {
     "name": "stdout",
     "output_type": "stream",
     "text": [
      "torch.Size([1, 6])\n"
     ]
    },
    {
     "data": {
      "text/plain": [
       "tensor([[ 0.0004,  0.0176,  0.0084,  0.8988,  0.0748]])"
      ]
     },
     "execution_count": 53,
     "metadata": {},
     "output_type": "execute_result"
    }
   ],
   "source": [
    "text = \"Google is working on self driving cars, I'm bullish on $goog\"\n",
    "model.eval()\n",
    "model.to(\"cpu\")\n",
    "predict(text, model, vocab)"
   ]
  },
  {
   "cell_type": "markdown",
   "metadata": {},
   "source": [
    "### Questions: What is the prediction of the model? What is the uncertainty of the prediction?\n",
    "\n",
    "My model give the highest score to 'positive'(90%) label. The next highest labels are 'very positive'(8%) and 'negative'(2%). I think it is reasonable for my model to give '8%' to 'positive'. but I'm not sure why my model output the thirds highest score to 'negative'. I guess my model is mindful of the possibility that twits is irony case."
   ]
  },
  {
   "cell_type": "markdown",
   "metadata": {},
   "source": [
    "Now we have a trained model and we can make predictions. We can use this model to track the sentiments of various stocks by predicting the sentiments of twits as they are coming in. Now we have a stream of twits. For each of those twits, pull out the stocks mentioned in them and keep track of the sentiments. Remember that in the twits, ticker symbols are encoded with a dollar sign as the first character, all caps, and 2-4 letters, like $AAPL. Ideally, you'd want to track the sentiments of the stocks in your universe and use this as a signal in your larger model(s).\n",
    "\n",
    "## Testing\n",
    "### Load the Data "
   ]
  },
  {
   "cell_type": "code",
   "execution_count": 54,
   "metadata": {},
   "outputs": [],
   "source": [
    "with open(os.path.join('..', '..', 'data', 'project_6_stocktwits', 'test_twits.json'), 'r') as f:\n",
    "    test_data = json.load(f)"
   ]
  },
  {
   "cell_type": "markdown",
   "metadata": {},
   "source": [
    "### Twit Stream"
   ]
  },
  {
   "cell_type": "code",
   "execution_count": 55,
   "metadata": {},
   "outputs": [
    {
     "data": {
      "text/plain": [
       "{'message_body': '$JWN has moved -1.69% on 10-31. Check out the movement and peers at  https://dividendbot.com?s=JWN',\n",
       " 'timestamp': '2018-11-01T00:00:05Z'}"
      ]
     },
     "execution_count": 55,
     "metadata": {},
     "output_type": "execute_result"
    }
   ],
   "source": [
    "def twit_stream():\n",
    "    for twit in test_data['data']:\n",
    "        yield twit\n",
    "\n",
    "next(twit_stream())"
   ]
  },
  {
   "cell_type": "markdown",
   "metadata": {},
   "source": [
    "Using the `prediction` function, let's apply it to a stream of twits."
   ]
  },
  {
   "cell_type": "code",
   "execution_count": 56,
   "metadata": {},
   "outputs": [],
   "source": [
    "def score_twits(stream, model, vocab, universe):\n",
    "    \"\"\" \n",
    "    Given a stream of twits and a universe of tickers, return sentiment scores for tickers in the universe.\n",
    "    \"\"\"\n",
    "    for twit in stream:\n",
    "\n",
    "        # Get the message text\n",
    "        text = twit['message_body']\n",
    "        symbols = re.findall('\\$[A-Z]{2,4}', text)\n",
    "        score = predict(text, model, vocab)\n",
    "\n",
    "        for symbol in symbols:\n",
    "            if symbol in universe:\n",
    "                yield {'symbol': symbol, 'score': score, 'timestamp': twit['timestamp']}"
   ]
  },
  {
   "cell_type": "code",
   "execution_count": 57,
   "metadata": {},
   "outputs": [
    {
     "name": "stdout",
     "output_type": "stream",
     "text": [
      "torch.Size([1, 8])\n",
      "torch.Size([1, 14])\n",
      "torch.Size([1, 3])\n"
     ]
    },
    {
     "data": {
      "text/plain": [
       "{'symbol': '$AAPL',\n",
       " 'score': tensor([[ 0.1407,  0.0095,  0.0218,  0.0290,  0.7991]]),\n",
       " 'timestamp': '2018-11-01T00:00:18Z'}"
      ]
     },
     "execution_count": 57,
     "metadata": {},
     "output_type": "execute_result"
    }
   ],
   "source": [
    "universe = {'$BBRY', '$AAPL', '$AMZN', '$BABA', '$YHOO', '$LQMT', '$FB', '$GOOG', '$BBBY', '$JNUG', '$SBUX', '$MU'}\n",
    "score_stream = score_twits(twit_stream(), model, vocab, universe)\n",
    "\n",
    "next(score_stream)"
   ]
  },
  {
   "cell_type": "markdown",
   "metadata": {},
   "source": [
    "That's it. You have successfully built a model for sentiment analysis! "
   ]
  },
  {
   "cell_type": "markdown",
   "metadata": {},
   "source": [
    "## Submission\n",
    "Now that you're done with the project, it's time to submit it. Click the submit button in the bottom right. One of our reviewers will give you feedback on your project with a pass or not passed grade. You can continue to the next section while you wait for feedback."
   ]
  }
 ],
 "metadata": {
  "kernelspec": {
   "display_name": "Python 3",
   "language": "python",
   "name": "python3"
  },
  "language_info": {
   "codemirror_mode": {
    "name": "ipython",
    "version": 3
   },
   "file_extension": ".py",
   "mimetype": "text/x-python",
   "name": "python",
   "nbconvert_exporter": "python",
   "pygments_lexer": "ipython3",
   "version": "3.6.3"
  }
 },
 "nbformat": 4,
 "nbformat_minor": 2
}
